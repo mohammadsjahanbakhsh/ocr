{
  "cells": [
    {
      "cell_type": "markdown",
      "metadata": {
        "id": "view-in-github",
        "colab_type": "text"
      },
      "source": [
        "<a href=\"https://colab.research.google.com/github/mohammadsjahanbakhsh/ocr/blob/main/ocr.ipynb\" target=\"_parent\"><img src=\"https://colab.research.google.com/assets/colab-badge.svg\" alt=\"Open In Colab\"/></a>"
      ]
    },
    {
      "cell_type": "markdown",
      "source": [
        "# last version"
      ],
      "metadata": {
        "id": "psZhwUwcIBi6"
      }
    },
    {
      "cell_type": "code",
      "execution_count": null,
      "metadata": {
        "colab": {
          "base_uri": "https://localhost:8080/"
        },
        "id": "_3txE_Cf1ewS",
        "outputId": "eb31787f-ed4c-495b-c6a6-3d4fc3b80233"
      },
      "outputs": [
        {
          "name": "stdout",
          "output_type": "stream",
          "text": [
            "Collecting pytesseract\n",
            "  Downloading pytesseract-0.3.13-py3-none-any.whl.metadata (11 kB)\n",
            "Requirement already satisfied: packaging>=21.3 in /usr/local/lib/python3.11/dist-packages (from pytesseract) (24.2)\n",
            "Requirement already satisfied: Pillow>=8.0.0 in /usr/local/lib/python3.11/dist-packages (from pytesseract) (11.1.0)\n",
            "Downloading pytesseract-0.3.13-py3-none-any.whl (14 kB)\n",
            "Installing collected packages: pytesseract\n",
            "Successfully installed pytesseract-0.3.13\n",
            "Reading package lists... Done\n",
            "Building dependency tree... Done\n",
            "Reading state information... Done\n",
            "The following additional packages will be installed:\n",
            "  tesseract-ocr-eng tesseract-ocr-osd\n",
            "The following NEW packages will be installed:\n",
            "  tesseract-ocr tesseract-ocr-eng tesseract-ocr-osd\n",
            "0 upgraded, 3 newly installed, 0 to remove and 20 not upgraded.\n",
            "Need to get 4,816 kB of archives.\n",
            "After this operation, 15.6 MB of additional disk space will be used.\n",
            "Get:1 http://archive.ubuntu.com/ubuntu jammy/universe amd64 tesseract-ocr-eng all 1:4.00~git30-7274cfa-1.1 [1,591 kB]\n",
            "Get:2 http://archive.ubuntu.com/ubuntu jammy/universe amd64 tesseract-ocr-osd all 1:4.00~git30-7274cfa-1.1 [2,990 kB]\n",
            "Get:3 http://archive.ubuntu.com/ubuntu jammy/universe amd64 tesseract-ocr amd64 4.1.1-2.1build1 [236 kB]\n",
            "Fetched 4,816 kB in 2s (2,649 kB/s)\n",
            "Selecting previously unselected package tesseract-ocr-eng.\n",
            "(Reading database ... 124926 files and directories currently installed.)\n",
            "Preparing to unpack .../tesseract-ocr-eng_1%3a4.00~git30-7274cfa-1.1_all.deb ...\n",
            "Unpacking tesseract-ocr-eng (1:4.00~git30-7274cfa-1.1) ...\n",
            "Selecting previously unselected package tesseract-ocr-osd.\n",
            "Preparing to unpack .../tesseract-ocr-osd_1%3a4.00~git30-7274cfa-1.1_all.deb ...\n",
            "Unpacking tesseract-ocr-osd (1:4.00~git30-7274cfa-1.1) ...\n",
            "Selecting previously unselected package tesseract-ocr.\n",
            "Preparing to unpack .../tesseract-ocr_4.1.1-2.1build1_amd64.deb ...\n",
            "Unpacking tesseract-ocr (4.1.1-2.1build1) ...\n",
            "Setting up tesseract-ocr-eng (1:4.00~git30-7274cfa-1.1) ...\n",
            "Setting up tesseract-ocr-osd (1:4.00~git30-7274cfa-1.1) ...\n",
            "Setting up tesseract-ocr (4.1.1-2.1build1) ...\n",
            "Processing triggers for man-db (2.10.2-1) ...\n"
          ]
        }
      ],
      "source": [
        "!pip install pytesseract\n",
        "!apt-get install tesseract-ocr"
      ]
    },
    {
      "cell_type": "code",
      "execution_count": null,
      "metadata": {
        "id": "86XkjzPB1KcF"
      },
      "outputs": [],
      "source": [
        "import pytesseract\n",
        "import cv2\n",
        "\n",
        "# Load image\n",
        "image = cv2.imread(\"/content/1.png\")\n",
        "gray = cv2.cvtColor(image, cv2.COLOR_BGR2GRAY)\n",
        "\n",
        "# Preprocess and extract data\n",
        "data = pytesseract.image_to_data(gray, output_type=pytesseract.Output.DICT)['text']\n"
      ]
    },
    {
      "cell_type": "code",
      "execution_count": null,
      "metadata": {
        "id": "dFMIBeKv1zX1"
      },
      "outputs": [],
      "source": [
        "list_text=data"
      ]
    },
    {
      "cell_type": "code",
      "execution_count": null,
      "metadata": {
        "colab": {
          "base_uri": "https://localhost:8080/"
        },
        "id": "rpnQRB7U2yGA",
        "outputId": "eab5196f-e2cc-4684-df64-2156f2ff1267"
      },
      "outputs": [
        {
          "data": {
            "text/plain": [
              "['',\n",
              " '',\n",
              " '',\n",
              " '',\n",
              " 'SPECIFICATIONS',\n",
              " '',\n",
              " '',\n",
              " '',\n",
              " 'Cell',\n",
              " 'Mono',\n",
              " '156.75x156.75mm',\n",
              " '',\n",
              " '',\n",
              " '',\n",
              " ' ',\n",
              " '',\n",
              " '',\n",
              " '',\n",
              " 'Weight',\n",
              " '22.5kg#3%',\n",
              " '',\n",
              " '',\n",
              " '',\n",
              " ' ',\n",
              " '',\n",
              " '',\n",
              " '',\n",
              " 'Dimensions',\n",
              " '1960%991x40mm,',\n",
              " '',\n",
              " '',\n",
              " '',\n",
              " ' ',\n",
              " '',\n",
              " '',\n",
              " '',\n",
              " 'Cable',\n",
              " 'Cross',\n",
              " 'Section',\n",
              " 'Size',\n",
              " '4mm?(12AWG)',\n",
              " '',\n",
              " '',\n",
              " '',\n",
              " ' ',\n",
              " '',\n",
              " '',\n",
              " '',\n",
              " 'No.',\n",
              " 'of',\n",
              " 'cells',\n",
              " '72',\n",
              " '(6x12)',\n",
              " '',\n",
              " '',\n",
              " '',\n",
              " ' ',\n",
              " '',\n",
              " '',\n",
              " '',\n",
              " 'Packaging',\n",
              " 'Configuration',\n",
              " '27',\n",
              " 'Per',\n",
              " 'Pallet']"
            ]
          },
          "execution_count": 3,
          "metadata": {},
          "output_type": "execute_result"
        }
      ],
      "source": [
        "list_text"
      ]
    },
    {
      "cell_type": "code",
      "execution_count": null,
      "metadata": {
        "colab": {
          "base_uri": "https://localhost:8080/"
        },
        "id": "dW_DsDND4YCH",
        "outputId": "1862455d-b8af-497e-b447-548dd4bad34e"
      },
      "outputs": [
        {
          "data": {
            "text/plain": [
              "list"
            ]
          },
          "execution_count": 12,
          "metadata": {},
          "output_type": "execute_result"
        }
      ],
      "source": [
        "type(list_text)"
      ]
    },
    {
      "cell_type": "code",
      "execution_count": null,
      "metadata": {
        "id": "3scwjrV719st"
      },
      "outputs": [],
      "source": [
        "def remove_columns(txt):\n",
        "\n",
        "    # txt=txt.split(\"\\n\")\n",
        "    # values=list(filter(lambda x: len(x) >1 ,txt))\n",
        "\n",
        "    columns='''SPECIFICATIONS\n",
        "Cell\n",
        "Weight\n",
        "Dimensions\n",
        "Cable Cross Section Size\n",
        "No. of cells\n",
        "Junction Box\n",
        "Connector\n",
        "Cable Length\n",
        "(Including Connector)\n",
        "Packaging Configuration'''\n",
        "    columns=columns.split()\n",
        "    values=list(filter(lambda x: x not in columns ,txt))\n",
        "    print(values)\n",
        "    # for col in columns:\n",
        "    #     values.remove(col)\n",
        "    return [\"\"]+values+[\"\"]\n",
        "    # return {k:v for k,v in zip(columns[1:],values)}\n",
        "\n",
        "\n",
        "text = remove_columns(list_text)\n"
      ]
    },
    {
      "cell_type": "code",
      "execution_count": null,
      "metadata": {
        "colab": {
          "base_uri": "https://localhost:8080/"
        },
        "id": "QULUlnF2FztY",
        "outputId": "8d395736-4d63-4496-b66e-5ed1c6a96c49"
      },
      "outputs": [
        {
          "data": {
            "text/plain": [
              "[0,\n",
              " 1,\n",
              " 2,\n",
              " 3,\n",
              " 4,\n",
              " 5,\n",
              " 6,\n",
              " 7,\n",
              " 10,\n",
              " 11,\n",
              " 12,\n",
              " 13,\n",
              " 14,\n",
              " 15,\n",
              " 16,\n",
              " 18,\n",
              " 19,\n",
              " 20,\n",
              " 21,\n",
              " 22,\n",
              " 23,\n",
              " 24,\n",
              " 26,\n",
              " 27,\n",
              " 28,\n",
              " 29,\n",
              " 30,\n",
              " 31,\n",
              " 32,\n",
              " 34,\n",
              " 35,\n",
              " 36,\n",
              " 37,\n",
              " 38,\n",
              " 39,\n",
              " 40,\n",
              " 43,\n",
              " 44,\n",
              " 45,\n",
              " 46,\n",
              " 47,\n",
              " 48,\n",
              " 49,\n",
              " 53]"
            ]
          },
          "execution_count": 30,
          "metadata": {},
          "output_type": "execute_result"
        }
      ],
      "source": [
        "[i for i,value in enumerate(text) if value.strip() =='']"
      ]
    },
    {
      "cell_type": "code",
      "execution_count": null,
      "metadata": {
        "id": "ldGLAfSs8NDU"
      },
      "outputs": [],
      "source": [
        "indexes_empty = [i for i,value in enumerate(text) if len(value) < 2]\n",
        "indexes_empty\n",
        "\n",
        "\n",
        "\n",
        "# s = 0\n",
        "# for i in range (index_empty[-1]):\n",
        "\n",
        "#   s +=i\n",
        "def find_neighbord_value(indexes_empty):\n",
        "  indexes = []\n",
        "  for i in range(len(indexes_empty)-1):\n",
        "    if indexes_empty[i+1] - indexes_empty[i] > 1:\n",
        "      indexes.append( indexes_empty[i]+1)\n",
        "      indexes.append( indexes_empty[i+1] )\n",
        "\n",
        "  return indexes\n"
      ]
    },
    {
      "cell_type": "code",
      "execution_count": null,
      "metadata": {
        "colab": {
          "base_uri": "https://localhost:8080/"
        },
        "id": "XvPdSSP8L_ln",
        "outputId": "13cb3337-6f61-4c45-b6bf-2a38489df3bd"
      },
      "outputs": [
        {
          "data": {
            "text/plain": [
              "[7, 9, 16, 17, 24, 25, 32, 33, 40, 42]"
            ]
          },
          "execution_count": 16,
          "metadata": {},
          "output_type": "execute_result"
        }
      ],
      "source": [
        "neighbord_values=find_neighbord_value(indexes_empty)\n",
        "neighbord_values"
      ]
    },
    {
      "cell_type": "code",
      "execution_count": null,
      "metadata": {
        "colab": {
          "base_uri": "https://localhost:8080/"
        },
        "id": "_EhF8mG9EXn7",
        "outputId": "e9ede2dd-1a75-4e8a-b445-3d3b676b3a2c"
      },
      "outputs": [
        {
          "data": {
            "text/plain": [
              "50"
            ]
          },
          "execution_count": 27,
          "metadata": {},
          "output_type": "execute_result"
        }
      ],
      "source": [
        "text.index(\"Per\")"
      ]
    },
    {
      "cell_type": "code",
      "execution_count": null,
      "metadata": {
        "colab": {
          "base_uri": "https://localhost:8080/"
        },
        "id": "GM1hm4lzC7er",
        "outputId": "d01b8564-4387-4d77-ea2b-23e2236d1866"
      },
      "outputs": [
        {
          "name": "stdout",
          "output_type": "stream",
          "text": [
            "['Mono', '156.75x156.75mm']\n",
            "['22.5kg#3%']\n",
            "['1960%991x40mm,']\n",
            "['4mm?(12AWG)']\n"
          ]
        }
      ],
      "source": [
        "print(text[neighbord_values[0]:neighbord_values[1]])\n",
        "print(text[neighbord_values[2]:neighbord_values[3]])\n",
        "print(text[neighbord_values[4]:neighbord_values[5]])\n",
        "print(text[neighbord_values[6]:neighbord_values[7]])\n",
        "print()"
      ]
    },
    {
      "cell_type": "code",
      "execution_count": null,
      "metadata": {
        "colab": {
          "base_uri": "https://localhost:8080/"
        },
        "id": "vR7Ozja8Cjyj",
        "outputId": "52c8a91e-a6a9-418e-a824-d10358c6972d"
      },
      "outputs": [
        {
          "name": "stdout",
          "output_type": "stream",
          "text": [
            "Mono 156.75x156.75mm\n",
            "22.5kg#3%\n",
            "1960%991x40mm,\n",
            "4mm?(12AWG)\n",
            "72 (6x12)\n"
          ]
        }
      ],
      "source": [
        "for i in range(0,len(neighbord_values),2):\n",
        "  print(\" \".join(text[neighbord_values[i]:neighbord_values[i+1]]))"
      ]
    },
    {
      "cell_type": "code",
      "execution_count": null,
      "metadata": {
        "id": "t4UFCLko2psE"
      },
      "outputs": [],
      "source": [
        "# prompt: how to merge values be neighbor has value and not be space or empty\n",
        "\n",
        "def specifications(txt):\n",
        "    columns = '''SPECIFICATIONS\n",
        "Cell\n",
        "Weight\n",
        "Dimensions\n",
        "Cable Cross Section Size\n",
        "No. of cells\n",
        "Junction Box\n",
        "Connector\n",
        "Cable Length\n",
        "(Including Connector)\n",
        "Packaging Configuration'''\n",
        "    columns1 = columns.split('\\n')\n",
        "    columns2 = columns.split()\n",
        "\n",
        "    # Remove empty strings and extra whitespace\n",
        "    values = [v for v in txt if v not in columns2]\n",
        "    # values = [v.strip() for v in values if v.strip()]\n",
        "\n",
        "    # Filter out column names from values\n",
        "    print(values)\n",
        "    # Merge values if the neighbor is not empty\n",
        "    merged_values = []\n",
        "    i = 0\n",
        "    while i < len(values):\n",
        "      if i + 1 < len(values) and values[i+1] and values[i]:\n",
        "        merged_values.append(values[i] + \" \" + values[i+1])\n",
        "        i += 2\n",
        "      else:\n",
        "          merged_values.append(values[i])\n",
        "          i += 1\n",
        "\n",
        "    return {k: v for k, v in zip(columns1[1:], merged_values[:len(columns1) - 1])}\n"
      ]
    },
    {
      "cell_type": "code",
      "execution_count": null,
      "metadata": {
        "colab": {
          "base_uri": "https://localhost:8080/"
        },
        "id": "zoKNOi2r50gV",
        "outputId": "367e1baf-c378-4345-aac0-d86173cb8c8c"
      },
      "outputs": [
        {
          "name": "stdout",
          "output_type": "stream",
          "text": [
            "['Mono', '156.75x156.75mm', '22.5kg#3%', '1960%991x40mm,', '4mm?(12AWG)', '72', '(6x12)', '27', 'Per', 'Pallet']\n"
          ]
        },
        {
          "data": {
            "text/plain": [
              "{'Cell': 'Mono 156.75x156.75mm',\n",
              " 'Weight': '22.5kg#3% 1960%991x40mm,',\n",
              " 'Dimensions': '4mm?(12AWG) 72',\n",
              " 'Cable Cross Section Size': '(6x12) 27',\n",
              " 'No. of cells': 'Per Pallet'}"
            ]
          },
          "execution_count": 23,
          "metadata": {},
          "output_type": "execute_result"
        }
      ],
      "source": [
        "\n",
        "specifications(list_text)"
      ]
    },
    {
      "cell_type": "markdown",
      "source": [
        "# ocr"
      ],
      "metadata": {
        "id": "ujkc-yNXH-YL"
      }
    },
    {
      "cell_type": "code",
      "execution_count": 1,
      "metadata": {
        "colab": {
          "base_uri": "https://localhost:8080/"
        },
        "id": "XWxCDQX03nca",
        "outputId": "2fd0013c-6db9-4914-93c9-9c5aac2683c3"
      },
      "outputs": [
        {
          "output_type": "stream",
          "name": "stdout",
          "text": [
            "Requirement already satisfied: torch in /usr/local/lib/python3.11/dist-packages (2.5.1+cu124)\n",
            "Requirement already satisfied: torchvision in /usr/local/lib/python3.11/dist-packages (0.20.1+cu124)\n",
            "Requirement already satisfied: transformers in /usr/local/lib/python3.11/dist-packages (4.48.3)\n",
            "Collecting tiktoken\n",
            "  Downloading tiktoken-0.9.0-cp311-cp311-manylinux_2_17_x86_64.manylinux2014_x86_64.whl.metadata (6.7 kB)\n",
            "Collecting verovio\n",
            "  Downloading verovio-5.0.0-cp311-cp311-manylinux_2_17_x86_64.manylinux2014_x86_64.whl.metadata (5.1 kB)\n",
            "Requirement already satisfied: accelerate in /usr/local/lib/python3.11/dist-packages (1.3.0)\n",
            "Requirement already satisfied: filelock in /usr/local/lib/python3.11/dist-packages (from torch) (3.17.0)\n",
            "Requirement already satisfied: typing-extensions>=4.8.0 in /usr/local/lib/python3.11/dist-packages (from torch) (4.12.2)\n",
            "Requirement already satisfied: networkx in /usr/local/lib/python3.11/dist-packages (from torch) (3.4.2)\n",
            "Requirement already satisfied: jinja2 in /usr/local/lib/python3.11/dist-packages (from torch) (3.1.5)\n",
            "Requirement already satisfied: fsspec in /usr/local/lib/python3.11/dist-packages (from torch) (2024.10.0)\n",
            "Collecting nvidia-cuda-nvrtc-cu12==12.4.127 (from torch)\n",
            "  Downloading nvidia_cuda_nvrtc_cu12-12.4.127-py3-none-manylinux2014_x86_64.whl.metadata (1.5 kB)\n",
            "Collecting nvidia-cuda-runtime-cu12==12.4.127 (from torch)\n",
            "  Downloading nvidia_cuda_runtime_cu12-12.4.127-py3-none-manylinux2014_x86_64.whl.metadata (1.5 kB)\n",
            "Collecting nvidia-cuda-cupti-cu12==12.4.127 (from torch)\n",
            "  Downloading nvidia_cuda_cupti_cu12-12.4.127-py3-none-manylinux2014_x86_64.whl.metadata (1.6 kB)\n",
            "Collecting nvidia-cudnn-cu12==9.1.0.70 (from torch)\n",
            "  Downloading nvidia_cudnn_cu12-9.1.0.70-py3-none-manylinux2014_x86_64.whl.metadata (1.6 kB)\n",
            "Collecting nvidia-cublas-cu12==12.4.5.8 (from torch)\n",
            "  Downloading nvidia_cublas_cu12-12.4.5.8-py3-none-manylinux2014_x86_64.whl.metadata (1.5 kB)\n",
            "Collecting nvidia-cufft-cu12==11.2.1.3 (from torch)\n",
            "  Downloading nvidia_cufft_cu12-11.2.1.3-py3-none-manylinux2014_x86_64.whl.metadata (1.5 kB)\n",
            "Collecting nvidia-curand-cu12==10.3.5.147 (from torch)\n",
            "  Downloading nvidia_curand_cu12-10.3.5.147-py3-none-manylinux2014_x86_64.whl.metadata (1.5 kB)\n",
            "Collecting nvidia-cusolver-cu12==11.6.1.9 (from torch)\n",
            "  Downloading nvidia_cusolver_cu12-11.6.1.9-py3-none-manylinux2014_x86_64.whl.metadata (1.6 kB)\n",
            "Collecting nvidia-cusparse-cu12==12.3.1.170 (from torch)\n",
            "  Downloading nvidia_cusparse_cu12-12.3.1.170-py3-none-manylinux2014_x86_64.whl.metadata (1.6 kB)\n",
            "Requirement already satisfied: nvidia-nccl-cu12==2.21.5 in /usr/local/lib/python3.11/dist-packages (from torch) (2.21.5)\n",
            "Requirement already satisfied: nvidia-nvtx-cu12==12.4.127 in /usr/local/lib/python3.11/dist-packages (from torch) (12.4.127)\n",
            "Collecting nvidia-nvjitlink-cu12==12.4.127 (from torch)\n",
            "  Downloading nvidia_nvjitlink_cu12-12.4.127-py3-none-manylinux2014_x86_64.whl.metadata (1.5 kB)\n",
            "Requirement already satisfied: triton==3.1.0 in /usr/local/lib/python3.11/dist-packages (from torch) (3.1.0)\n",
            "Requirement already satisfied: sympy==1.13.1 in /usr/local/lib/python3.11/dist-packages (from torch) (1.13.1)\n",
            "Requirement already satisfied: mpmath<1.4,>=1.1.0 in /usr/local/lib/python3.11/dist-packages (from sympy==1.13.1->torch) (1.3.0)\n",
            "Requirement already satisfied: numpy in /usr/local/lib/python3.11/dist-packages (from torchvision) (1.26.4)\n",
            "Requirement already satisfied: pillow!=8.3.*,>=5.3.0 in /usr/local/lib/python3.11/dist-packages (from torchvision) (11.1.0)\n",
            "Requirement already satisfied: huggingface-hub<1.0,>=0.24.0 in /usr/local/lib/python3.11/dist-packages (from transformers) (0.28.1)\n",
            "Requirement already satisfied: packaging>=20.0 in /usr/local/lib/python3.11/dist-packages (from transformers) (24.2)\n",
            "Requirement already satisfied: pyyaml>=5.1 in /usr/local/lib/python3.11/dist-packages (from transformers) (6.0.2)\n",
            "Requirement already satisfied: regex!=2019.12.17 in /usr/local/lib/python3.11/dist-packages (from transformers) (2024.11.6)\n",
            "Requirement already satisfied: requests in /usr/local/lib/python3.11/dist-packages (from transformers) (2.32.3)\n",
            "Requirement already satisfied: tokenizers<0.22,>=0.21 in /usr/local/lib/python3.11/dist-packages (from transformers) (0.21.0)\n",
            "Requirement already satisfied: safetensors>=0.4.1 in /usr/local/lib/python3.11/dist-packages (from transformers) (0.5.2)\n",
            "Requirement already satisfied: tqdm>=4.27 in /usr/local/lib/python3.11/dist-packages (from transformers) (4.67.1)\n",
            "Requirement already satisfied: psutil in /usr/local/lib/python3.11/dist-packages (from accelerate) (5.9.5)\n",
            "Requirement already satisfied: charset-normalizer<4,>=2 in /usr/local/lib/python3.11/dist-packages (from requests->transformers) (3.4.1)\n",
            "Requirement already satisfied: idna<4,>=2.5 in /usr/local/lib/python3.11/dist-packages (from requests->transformers) (3.10)\n",
            "Requirement already satisfied: urllib3<3,>=1.21.1 in /usr/local/lib/python3.11/dist-packages (from requests->transformers) (2.3.0)\n",
            "Requirement already satisfied: certifi>=2017.4.17 in /usr/local/lib/python3.11/dist-packages (from requests->transformers) (2025.1.31)\n",
            "Requirement already satisfied: MarkupSafe>=2.0 in /usr/local/lib/python3.11/dist-packages (from jinja2->torch) (3.0.2)\n",
            "Downloading nvidia_cublas_cu12-12.4.5.8-py3-none-manylinux2014_x86_64.whl (363.4 MB)\n",
            "\u001b[2K   \u001b[90m━━━━━━━━━━━━━━━━━━━━━━━━━━━━━━━━━━━━━━━━\u001b[0m \u001b[32m363.4/363.4 MB\u001b[0m \u001b[31m3.1 MB/s\u001b[0m eta \u001b[36m0:00:00\u001b[0m\n",
            "\u001b[?25hDownloading nvidia_cuda_cupti_cu12-12.4.127-py3-none-manylinux2014_x86_64.whl (13.8 MB)\n",
            "\u001b[2K   \u001b[90m━━━━━━━━━━━━━━━━━━━━━━━━━━━━━━━━━━━━━━━━\u001b[0m \u001b[32m13.8/13.8 MB\u001b[0m \u001b[31m19.3 MB/s\u001b[0m eta \u001b[36m0:00:00\u001b[0m\n",
            "\u001b[?25hDownloading nvidia_cuda_nvrtc_cu12-12.4.127-py3-none-manylinux2014_x86_64.whl (24.6 MB)\n",
            "\u001b[2K   \u001b[90m━━━━━━━━━━━━━━━━━━━━━━━━━━━━━━━━━━━━━━━━\u001b[0m \u001b[32m24.6/24.6 MB\u001b[0m \u001b[31m18.2 MB/s\u001b[0m eta \u001b[36m0:00:00\u001b[0m\n",
            "\u001b[?25hDownloading nvidia_cuda_runtime_cu12-12.4.127-py3-none-manylinux2014_x86_64.whl (883 kB)\n",
            "\u001b[2K   \u001b[90m━━━━━━━━━━━━━━━━━━━━━━━━━━━━━━━━━━━━━━━━\u001b[0m \u001b[32m883.7/883.7 kB\u001b[0m \u001b[31m20.2 MB/s\u001b[0m eta \u001b[36m0:00:00\u001b[0m\n",
            "\u001b[?25hDownloading nvidia_cudnn_cu12-9.1.0.70-py3-none-manylinux2014_x86_64.whl (664.8 MB)\n",
            "\u001b[2K   \u001b[90m━━━━━━━━━━━━━━━━━━━━━━━━━━━━━━━━━━━━━━━━\u001b[0m \u001b[32m664.8/664.8 MB\u001b[0m \u001b[31m2.9 MB/s\u001b[0m eta \u001b[36m0:00:00\u001b[0m\n",
            "\u001b[?25hDownloading nvidia_cufft_cu12-11.2.1.3-py3-none-manylinux2014_x86_64.whl (211.5 MB)\n",
            "\u001b[2K   \u001b[90m━━━━━━━━━━━━━━━━━━━━━━━━━━━━━━━━━━━━━━━━\u001b[0m \u001b[32m211.5/211.5 MB\u001b[0m \u001b[31m4.0 MB/s\u001b[0m eta \u001b[36m0:00:00\u001b[0m\n",
            "\u001b[?25hDownloading nvidia_curand_cu12-10.3.5.147-py3-none-manylinux2014_x86_64.whl (56.3 MB)\n",
            "\u001b[2K   \u001b[90m━━━━━━━━━━━━━━━━━━━━━━━━━━━━━━━━━━━━━━━━\u001b[0m \u001b[32m56.3/56.3 MB\u001b[0m \u001b[31m11.1 MB/s\u001b[0m eta \u001b[36m0:00:00\u001b[0m\n",
            "\u001b[?25hDownloading nvidia_cusolver_cu12-11.6.1.9-py3-none-manylinux2014_x86_64.whl (127.9 MB)\n",
            "\u001b[2K   \u001b[90m━━━━━━━━━━━━━━━━━━━━━━━━━━━━━━━━━━━━━━━━\u001b[0m \u001b[32m127.9/127.9 MB\u001b[0m \u001b[31m7.4 MB/s\u001b[0m eta \u001b[36m0:00:00\u001b[0m\n",
            "\u001b[?25hDownloading nvidia_cusparse_cu12-12.3.1.170-py3-none-manylinux2014_x86_64.whl (207.5 MB)\n",
            "\u001b[2K   \u001b[90m━━━━━━━━━━━━━━━━━━━━━━━━━━━━━━━━━━━━━━━━\u001b[0m \u001b[32m207.5/207.5 MB\u001b[0m \u001b[31m5.2 MB/s\u001b[0m eta \u001b[36m0:00:00\u001b[0m\n",
            "\u001b[?25hDownloading nvidia_nvjitlink_cu12-12.4.127-py3-none-manylinux2014_x86_64.whl (21.1 MB)\n",
            "\u001b[2K   \u001b[90m━━━━━━━━━━━━━━━━━━━━━━━━━━━━━━━━━━━━━━━━\u001b[0m \u001b[32m21.1/21.1 MB\u001b[0m \u001b[31m61.3 MB/s\u001b[0m eta \u001b[36m0:00:00\u001b[0m\n",
            "\u001b[?25hDownloading tiktoken-0.9.0-cp311-cp311-manylinux_2_17_x86_64.manylinux2014_x86_64.whl (1.2 MB)\n",
            "\u001b[2K   \u001b[90m━━━━━━━━━━━━━━━━━━━━━━━━━━━━━━━━━━━━━━━━\u001b[0m \u001b[32m1.2/1.2 MB\u001b[0m \u001b[31m48.9 MB/s\u001b[0m eta \u001b[36m0:00:00\u001b[0m\n",
            "\u001b[?25hDownloading verovio-5.0.0-cp311-cp311-manylinux_2_17_x86_64.manylinux2014_x86_64.whl (8.2 MB)\n",
            "\u001b[2K   \u001b[90m━━━━━━━━━━━━━━━━━━━━━━━━━━━━━━━━━━━━━━━━\u001b[0m \u001b[32m8.2/8.2 MB\u001b[0m \u001b[31m48.0 MB/s\u001b[0m eta \u001b[36m0:00:00\u001b[0m\n",
            "\u001b[?25hInstalling collected packages: verovio, nvidia-nvjitlink-cu12, nvidia-curand-cu12, nvidia-cufft-cu12, nvidia-cuda-runtime-cu12, nvidia-cuda-nvrtc-cu12, nvidia-cuda-cupti-cu12, nvidia-cublas-cu12, tiktoken, nvidia-cusparse-cu12, nvidia-cudnn-cu12, nvidia-cusolver-cu12\n",
            "  Attempting uninstall: nvidia-nvjitlink-cu12\n",
            "    Found existing installation: nvidia-nvjitlink-cu12 12.5.82\n",
            "    Uninstalling nvidia-nvjitlink-cu12-12.5.82:\n",
            "      Successfully uninstalled nvidia-nvjitlink-cu12-12.5.82\n",
            "  Attempting uninstall: nvidia-curand-cu12\n",
            "    Found existing installation: nvidia-curand-cu12 10.3.6.82\n",
            "    Uninstalling nvidia-curand-cu12-10.3.6.82:\n",
            "      Successfully uninstalled nvidia-curand-cu12-10.3.6.82\n",
            "  Attempting uninstall: nvidia-cufft-cu12\n",
            "    Found existing installation: nvidia-cufft-cu12 11.2.3.61\n",
            "    Uninstalling nvidia-cufft-cu12-11.2.3.61:\n",
            "      Successfully uninstalled nvidia-cufft-cu12-11.2.3.61\n",
            "  Attempting uninstall: nvidia-cuda-runtime-cu12\n",
            "    Found existing installation: nvidia-cuda-runtime-cu12 12.5.82\n",
            "    Uninstalling nvidia-cuda-runtime-cu12-12.5.82:\n",
            "      Successfully uninstalled nvidia-cuda-runtime-cu12-12.5.82\n",
            "  Attempting uninstall: nvidia-cuda-nvrtc-cu12\n",
            "    Found existing installation: nvidia-cuda-nvrtc-cu12 12.5.82\n",
            "    Uninstalling nvidia-cuda-nvrtc-cu12-12.5.82:\n",
            "      Successfully uninstalled nvidia-cuda-nvrtc-cu12-12.5.82\n",
            "  Attempting uninstall: nvidia-cuda-cupti-cu12\n",
            "    Found existing installation: nvidia-cuda-cupti-cu12 12.5.82\n",
            "    Uninstalling nvidia-cuda-cupti-cu12-12.5.82:\n",
            "      Successfully uninstalled nvidia-cuda-cupti-cu12-12.5.82\n",
            "  Attempting uninstall: nvidia-cublas-cu12\n",
            "    Found existing installation: nvidia-cublas-cu12 12.5.3.2\n",
            "    Uninstalling nvidia-cublas-cu12-12.5.3.2:\n",
            "      Successfully uninstalled nvidia-cublas-cu12-12.5.3.2\n",
            "  Attempting uninstall: nvidia-cusparse-cu12\n",
            "    Found existing installation: nvidia-cusparse-cu12 12.5.1.3\n",
            "    Uninstalling nvidia-cusparse-cu12-12.5.1.3:\n",
            "      Successfully uninstalled nvidia-cusparse-cu12-12.5.1.3\n",
            "  Attempting uninstall: nvidia-cudnn-cu12\n",
            "    Found existing installation: nvidia-cudnn-cu12 9.3.0.75\n",
            "    Uninstalling nvidia-cudnn-cu12-9.3.0.75:\n",
            "      Successfully uninstalled nvidia-cudnn-cu12-9.3.0.75\n",
            "  Attempting uninstall: nvidia-cusolver-cu12\n",
            "    Found existing installation: nvidia-cusolver-cu12 11.6.3.83\n",
            "    Uninstalling nvidia-cusolver-cu12-11.6.3.83:\n",
            "      Successfully uninstalled nvidia-cusolver-cu12-11.6.3.83\n",
            "Successfully installed nvidia-cublas-cu12-12.4.5.8 nvidia-cuda-cupti-cu12-12.4.127 nvidia-cuda-nvrtc-cu12-12.4.127 nvidia-cuda-runtime-cu12-12.4.127 nvidia-cudnn-cu12-9.1.0.70 nvidia-cufft-cu12-11.2.1.3 nvidia-curand-cu12-10.3.5.147 nvidia-cusolver-cu12-11.6.1.9 nvidia-cusparse-cu12-12.3.1.170 nvidia-nvjitlink-cu12-12.4.127 tiktoken-0.9.0 verovio-5.0.0\n"
          ]
        }
      ],
      "source": [
        "!pip install torch torchvision transformers tiktoken verovio accelerate\n"
      ]
    },
    {
      "cell_type": "code",
      "execution_count": null,
      "metadata": {
        "id": "3knygZsu6hg8",
        "colab": {
          "base_uri": "https://localhost:8080/",
          "height": 350,
          "referenced_widgets": [
            "d021888f6b674eefacf8ebeb56318868",
            "2996ccb8aa7b4a47a26cd7b689f97fbb",
            "2c5e07fdd021476ebde6f30fd64acd5b",
            "0ee4862181cf4bcd88562beae03bad7c",
            "b828a818cf454b94b092a67c1be12c5f",
            "6d945c6bce874a799a363a951e122ec6",
            "169379ab805d42f2a9464c108291e660",
            "d0ecd201d84548aea6fd48f2f8bf4a9f",
            "25f3c6e020a840f19c07fa10e05e51bd",
            "5a57a8d0397d42d08731c8cb9c55eae4",
            "ff1c38a8f3e24d9d9ca948e198f9f589",
            "5f0c386eb0824e96b64fd7d305ed86b8",
            "54437a367e7b4274a0e6a3d01741da25",
            "1e9ccd38b3cf42d78e586f3114a91ec6",
            "47c43ed757df4b9e8fd9707e6b3d4bf5",
            "0c27998cd21e484bb7c0f81912eaa3a0",
            "436aa486ccec47808c4491786c684f13",
            "b7bc9604b3de4ae6b6d88f3f6d79f86f",
            "81075a6cd5aa4b75bc5bc748b6c44089",
            "1d0755b168504147ae4c223f3fc2ab8f",
            "12f33214923a4f99a281f4368ed16dbd",
            "e24d3c6f5a594ffda04c3a40aceeabec",
            "34c12ae416784460ad9d0e5daf2be8b8",
            "756edd94522549eebf18b05e97c05fa2",
            "d94aa8386fee443aaff57577790c6e76",
            "7309ec9e1f6d48629e0313fd92f84246",
            "10550af2d3664454b4955bf4670ea6e3",
            "9adeb1bb33534dc2988a1646eb98f3d7",
            "f6af5674714c46c081863937353a1e4f",
            "4541830b59334bfdae0958e097b96779",
            "ee869d9caa504ab0a926c1044eb5e0cc",
            "defc74d50c6246c48b01cbdfb97e86fe",
            "def09b981e504c398f1251a81effe0e8",
            "1ce835997d2745c5a60657f19b4c3bdc",
            "783430b4c80e4921a4ad86d026bff3d4",
            "50b8327545d2433dbac8c70ec711117e",
            "959cc7a625534fb7b7abbc4c6c0dfcd7",
            "7e7d99701c2647e5acf72b55860a71e5",
            "64296539bcb34c27b95b60e639140e7d",
            "196231549d3641189e4106f9f80b0c21",
            "d09a88988e9341d4a13acdd5fb8d2a48",
            "d03ac606047449fa95c49845c4e161f8",
            "11931cb81d3340a1995dd12a17b8dbb7",
            "42111238d1f344ef9c37f096689418ee"
          ]
        },
        "outputId": "9f960fdb-7b9d-4e34-e6e1-305beb143781"
      },
      "outputs": [
        {
          "output_type": "display_data",
          "data": {
            "text/plain": [
              "render_tools.py:   0%|          | 0.00/1.99k [00:00<?, ?B/s]"
            ],
            "application/vnd.jupyter.widget-view+json": {
              "version_major": 2,
              "version_minor": 0,
              "model_id": "d021888f6b674eefacf8ebeb56318868"
            }
          },
          "metadata": {}
        },
        {
          "output_type": "stream",
          "name": "stderr",
          "text": [
            "A new version of the following files was downloaded from https://huggingface.co/ucaslcl/GOT-OCR2_0:\n",
            "- render_tools.py\n",
            ". Make sure to double-check they do not contain any added malicious code. To avoid downloading new versions of the code file, you can pin a revision.\n"
          ]
        },
        {
          "output_type": "display_data",
          "data": {
            "text/plain": [
              "got_vision_b.py:   0%|          | 0.00/16.1k [00:00<?, ?B/s]"
            ],
            "application/vnd.jupyter.widget-view+json": {
              "version_major": 2,
              "version_minor": 0,
              "model_id": "5f0c386eb0824e96b64fd7d305ed86b8"
            }
          },
          "metadata": {}
        },
        {
          "output_type": "stream",
          "name": "stderr",
          "text": [
            "A new version of the following files was downloaded from https://huggingface.co/ucaslcl/GOT-OCR2_0:\n",
            "- got_vision_b.py\n",
            ". Make sure to double-check they do not contain any added malicious code. To avoid downloading new versions of the code file, you can pin a revision.\n",
            "A new version of the following files was downloaded from https://huggingface.co/ucaslcl/GOT-OCR2_0:\n",
            "- render_tools.py\n",
            "- got_vision_b.py\n",
            ". Make sure to double-check they do not contain any added malicious code. To avoid downloading new versions of the code file, you can pin a revision.\n"
          ]
        },
        {
          "output_type": "display_data",
          "data": {
            "text/plain": [
              "model.safetensors:   0%|          | 0.00/1.43G [00:00<?, ?B/s]"
            ],
            "application/vnd.jupyter.widget-view+json": {
              "version_major": 2,
              "version_minor": 0,
              "model_id": "34c12ae416784460ad9d0e5daf2be8b8"
            }
          },
          "metadata": {}
        },
        {
          "output_type": "display_data",
          "data": {
            "text/plain": [
              "generation_config.json:   0%|          | 0.00/117 [00:00<?, ?B/s]"
            ],
            "application/vnd.jupyter.widget-view+json": {
              "version_major": 2,
              "version_minor": 0,
              "model_id": "1ce835997d2745c5a60657f19b4c3bdc"
            }
          },
          "metadata": {}
        }
      ],
      "source": [
        "dfrom transformers import AutoModel, AutoTokenizer\n",
        "\n",
        "tokenizer = AutoTokenizer.from_pretrained('stepfun-ai/GOT-OCR-2.0-hf', trust_remote_code=True)\n",
        "# tokenizer = AutoTokenizer.from_pretrained('ucaslcl/GOT-OCR2_0', trust_remote_code=True)\n",
        "model = AutoModel.from_pretrained(\n",
        "    'ucaslcl/GOT-OCR2_0',\n",
        "    trust_remote_code=True,\n",
        "    low_cpu_mem_usage=True,\n",
        "    device_map='cuda',\n",
        "    use_safetensors=True,\n",
        "    pad_token_id=tokenizer.eos_token_id\n",
        ")\n",
        "model = model.eval().cuda()\n"
      ]
    },
    {
      "cell_type": "code",
      "execution_count": null,
      "metadata": {
        "colab": {
          "base_uri": "https://localhost:8080/"
        },
        "id": "TWdJxxhI54Yx",
        "outputId": "8c9a9dc1-5e92-4124-8688-64adf534ef74"
      },
      "outputs": [
        {
          "output_type": "stream",
          "name": "stderr",
          "text": [
            "The attention mask and the pad token id were not set. As a consequence, you may observe unexpected behavior. Please pass your input's `attention_mask` to obtain reliable results.\n",
            "Setting `pad_token_id` to `eos_token_id`:151643 for open-end generation.\n"
          ]
        },
        {
          "output_type": "stream",
          "name": "stdout",
          "text": [
            "###\n",
            "\\begin{tabular}{ll} \n",
            "SPECIFICATIONS & \\\\\n",
            "\\hline Cell & Mono 156.75×156.75mm \\\\\n",
            "\\hline Weight & \\(22.5 \\mathrm{~kg} \\pm 3 \\%\\) \\\\\n",
            "Dimensions & \\(1960 \\times 991 \\times 40 \\mathrm{~mm}\\) \\\\\n",
            "\\hline Cable Cross Section Size & \\(4 \\mathrm{~mm}^{2}\\) (12AWG) \\\\\n",
            "\\hline No. of cells & \\(72(6 \\times 12)\\) \\\\\n",
            "\\hline Junction Box & IP67, 3 diodes \\\\\n",
            "\\hline Connector & Amphenol UTX \\\\\n",
            "\\hline Packaging Configuration & 27 Per Pallet \\\\\n",
            "\\hline\n",
            "\\end{tabular}\n"
          ]
        }
      ],
      "source": [
        "image_file = '/content/1.png'  # replace with your PNG file path\n",
        "result = model.chat(tokenizer, image_file, ocr_type='format')\n",
        "print(\"###\")\n",
        "print(result)\n"
      ]
    },
    {
      "cell_type": "code",
      "source": [
        "result = model.chat(tokenizer, \"/content/Screenshot 2025-02-18 134431.png\", ocr_type='format')\n",
        "print(\"###\")\n",
        "print(result)\n"
      ],
      "metadata": {
        "colab": {
          "base_uri": "https://localhost:8080/"
        },
        "id": "SORTZN0SkE8C",
        "outputId": "0299bea2-5998-46d9-cc1e-759a642df977"
      },
      "execution_count": null,
      "outputs": [
        {
          "output_type": "stream",
          "name": "stderr",
          "text": [
            "The attention mask and the pad token id were not set. As a consequence, you may observe unexpected behavior. Please pass your input's `attention_mask` to obtain reliable results.\n",
            "Setting `pad_token_id` to `eos_token_id`:151643 for open-end generation.\n"
          ]
        },
        {
          "output_type": "stream",
          "name": "stdout",
          "text": [
            "###\n",
            "\\begin{tabular}{|ll|}\n",
            "\\hline SPECIFICATIONS & \\\\\n",
            "\\hline Cell & Mono \\\\\n",
            "Weight & \\(28.6 \\mathrm{~kg} \\pm 3 \\%\\) \\\\\n",
            "Dimensions & \\(2279 \\pm 2 \\mathrm{~mm} \\times 1134 \\pm 2 \\mathrm{~mm} \\times 35 \\pm 1 \\mathrm{~mm}\\) \\\\\n",
            "\\hline Cable Cross Section Size & \\(4 \\mathrm{~mm}^{2}\\) (IEC), 12 AWG(UL) \\\\\n",
            "\\hline No. of cells & \\(144(6 \\times 24)\\) \\\\\n",
            "Junction Box & IP68, 3 diodes \\\\\n",
            "Connector & QC 4.10(1000V) \\\\\n",
            "& QC 4.10-35(1500V) \\\\\n",
            "\\hline Cable Length & Portrait: 300mm(+)400mm(-); \\\\\n",
            "(Including Connector) & Landscape: 1200mm(+)1200mm(-) \\\\\n",
            "\\hline Packaging Configuration & 31pcs/Pallet, 620pcs/40ft Container \\\\\n",
            "\\hline\n",
            "\\end{tabular}\n"
          ]
        }
      ]
    },
    {
      "cell_type": "code",
      "source": [
        "\n",
        "\n",
        "result = model.chat(tokenizer, \"/content/Screenshot 2025-02-18 134431.png\", ocr_type='format')\n",
        "print(\"###\")\n",
        "print(result)\n"
      ],
      "metadata": {
        "colab": {
          "base_uri": "https://localhost:8080/"
        },
        "id": "lQz9HppAktn5",
        "outputId": "777f64fb-3c3e-4251-e05e-b4905db8469c"
      },
      "execution_count": null,
      "outputs": [
        {
          "output_type": "stream",
          "name": "stderr",
          "text": [
            "The attention mask and the pad token id were not set. As a consequence, you may observe unexpected behavior. Please pass your input's `attention_mask` to obtain reliable results.\n",
            "Setting `pad_token_id` to `eos_token_id`:151643 for open-end generation.\n"
          ]
        },
        {
          "output_type": "stream",
          "name": "stdout",
          "text": [
            "###\n",
            "\\begin{tabular}{|ll|}\n",
            "\\hline SPECIFICATIONS & \\\\\n",
            "\\hline Cell & Mono \\\\\n",
            "Weight & \\(28.6 \\mathrm{~kg} \\pm 3 \\%\\) \\\\\n",
            "Dimensions & \\(2279 \\pm 2 \\mathrm{~mm} \\times 1134 \\pm 2 \\mathrm{~mm} \\times 35 \\pm 1 \\mathrm{~mm}\\) \\\\\n",
            "\\hline Cable Cross Section Size & \\(4 \\mathrm{~mm}^{2}\\) (IEC), 12 AWG(UL) \\\\\n",
            "\\hline No. of cells & \\(144(6 \\times 24)\\) \\\\\n",
            "Junction Box & IP68, 3 diodes \\\\\n",
            "Connector & QC 4.10(1000V) \\\\\n",
            "& QC 4.10-35(1500V) \\\\\n",
            "\\hline Cable Length & Portrait: 300mm(+)400mm(-); \\\\\n",
            "(Including Connector) & Landscape: 1200mm(+)1200mm(-) \\\\\n",
            "\\hline Packaging Configuration & 31pcs/Pallet, 620pcs/40ft Container \\\\\n",
            "\\hline\n",
            "\\end{tabular}\n"
          ]
        }
      ]
    },
    {
      "cell_type": "code",
      "execution_count": null,
      "metadata": {
        "id": "tAN-ZLTC6rzx"
      },
      "outputs": [],
      "source": [
        "def table(image_file,from_text=False):\n",
        "    if  from_text :\n",
        "        result = image_file\n",
        "    else :\n",
        "        result = model.chat(tokenizer, image_file, ocr_type='format')#, render=True, save_render_file='./demo.html')\n",
        "\n",
        "    result2=result.replace(\"\\\\\",\"\").replace(\"hline\",\"\").replace(\"mathrm\",'').replace(\"times\",'×').split(\"\\n\")[1:-2]\n",
        "    table_value={k.strip(): v.strip() for k, v in map(lambda x:x.split(\"&\"),result2[1:])}\n",
        "    table_name = result2[0].strip().split()[0]\n",
        "    return table_name,table_value\n",
        "# print(\"###\")\n",
        "# print(result)\n"
      ]
    },
    {
      "cell_type": "code",
      "execution_count": null,
      "metadata": {
        "colab": {
          "base_uri": "https://localhost:8080/"
        },
        "id": "lGygpS0s_fL8",
        "outputId": "1a3fe837-b5bf-481d-8337-f6b767c5c862"
      },
      "outputs": [
        {
          "output_type": "stream",
          "name": "stderr",
          "text": [
            "The attention mask and the pad token id were not set. As a consequence, you may observe unexpected behavior. Please pass your input's `attention_mask` to obtain reliable results.\n",
            "Setting `pad_token_id` to `eos_token_id`:151643 for open-end generation.\n"
          ]
        },
        {
          "output_type": "execute_result",
          "data": {
            "text/plain": [
              "('SPECIFICATIONS',\n",
              " {'Cell': 'Mono 156.75×156.75mm',\n",
              "  'Weight': '(22.5 {~kg} pm 3 %)',\n",
              "  'Dimensions': '(1960 × 991 × 40 {~mm})',\n",
              "  'Cable Cross Section Size': '(4 {~mm}^{2}) (12AWG)',\n",
              "  'No. of cells': '(72(6 × 12))',\n",
              "  'Junction Box': 'IP67, 3 diodes',\n",
              "  'Connector': 'Amphenol UTX',\n",
              "  'Packaging Configuration': '27 Per Pallet'})"
            ]
          },
          "metadata": {},
          "execution_count": 62
        }
      ],
      "source": [
        "table(image_file)"
      ]
    },
    {
      "cell_type": "code",
      "source": [],
      "metadata": {
        "id": "JP8qzLudnXWD"
      },
      "execution_count": null,
      "outputs": []
    },
    {
      "source": [
        "import pandas as pd\n",
        "\n",
        "def create_dataframe_from_dict(input_dict):\n",
        "    # Restructure input_dict\n",
        "    restructured_dict = {key: [value] for key, value in input_dict.items()}\n",
        "\n",
        "    # Now create the DataFrame\n",
        "    df = pd.DataFrame(restructured_dict)\n",
        "    return df\n",
        "\n",
        "# Assuming t2 is the output of the `table` function\n",
        "df = create_dataframe_from_dict(t2[1])\n",
        "df.Tz"
      ],
      "cell_type": "code",
      "metadata": {
        "colab": {
          "base_uri": "https://localhost:8080/",
          "height": 332
        },
        "id": "dBQDmrW7nYut",
        "outputId": "d75aff1d-f7f6-4064-8b2f-0e1daeb55b09"
      },
      "execution_count": null,
      "outputs": [
        {
          "output_type": "error",
          "ename": "AttributeError",
          "evalue": "'str' object has no attribute 'items'",
          "traceback": [
            "\u001b[0;31m---------------------------------------------------------------------------\u001b[0m",
            "\u001b[0;31mAttributeError\u001b[0m                            Traceback (most recent call last)",
            "\u001b[0;32m<ipython-input-117-762769a0dede>\u001b[0m in \u001b[0;36m<cell line: 0>\u001b[0;34m()\u001b[0m\n\u001b[1;32m     10\u001b[0m \u001b[0;34m\u001b[0m\u001b[0m\n\u001b[1;32m     11\u001b[0m \u001b[0;31m# Assuming t2 is the output of the `table` function\u001b[0m\u001b[0;34m\u001b[0m\u001b[0;34m\u001b[0m\u001b[0m\n\u001b[0;32m---> 12\u001b[0;31m \u001b[0mdf\u001b[0m \u001b[0;34m=\u001b[0m \u001b[0mcreate_dataframe_from_dict\u001b[0m\u001b[0;34m(\u001b[0m\u001b[0mt2\u001b[0m\u001b[0;34m[\u001b[0m\u001b[0;36m1\u001b[0m\u001b[0;34m]\u001b[0m\u001b[0;34m)\u001b[0m\u001b[0;34m\u001b[0m\u001b[0;34m\u001b[0m\u001b[0m\n\u001b[0m\u001b[1;32m     13\u001b[0m \u001b[0mdf\u001b[0m\u001b[0;34m.\u001b[0m\u001b[0mTz\u001b[0m\u001b[0;34m\u001b[0m\u001b[0;34m\u001b[0m\u001b[0m\n",
            "\u001b[0;32m<ipython-input-117-762769a0dede>\u001b[0m in \u001b[0;36mcreate_dataframe_from_dict\u001b[0;34m(input_dict)\u001b[0m\n\u001b[1;32m      3\u001b[0m \u001b[0;32mdef\u001b[0m \u001b[0mcreate_dataframe_from_dict\u001b[0m\u001b[0;34m(\u001b[0m\u001b[0minput_dict\u001b[0m\u001b[0;34m)\u001b[0m\u001b[0;34m:\u001b[0m\u001b[0;34m\u001b[0m\u001b[0;34m\u001b[0m\u001b[0m\n\u001b[1;32m      4\u001b[0m     \u001b[0;31m# Restructure input_dict\u001b[0m\u001b[0;34m\u001b[0m\u001b[0;34m\u001b[0m\u001b[0m\n\u001b[0;32m----> 5\u001b[0;31m     \u001b[0mrestructured_dict\u001b[0m \u001b[0;34m=\u001b[0m \u001b[0;34m{\u001b[0m\u001b[0mkey\u001b[0m\u001b[0;34m:\u001b[0m \u001b[0;34m[\u001b[0m\u001b[0mvalue\u001b[0m\u001b[0;34m]\u001b[0m \u001b[0;32mfor\u001b[0m \u001b[0mkey\u001b[0m\u001b[0;34m,\u001b[0m \u001b[0mvalue\u001b[0m \u001b[0;32min\u001b[0m \u001b[0minput_dict\u001b[0m\u001b[0;34m.\u001b[0m\u001b[0mitems\u001b[0m\u001b[0;34m(\u001b[0m\u001b[0;34m)\u001b[0m\u001b[0;34m}\u001b[0m\u001b[0;34m\u001b[0m\u001b[0;34m\u001b[0m\u001b[0m\n\u001b[0m\u001b[1;32m      6\u001b[0m \u001b[0;34m\u001b[0m\u001b[0m\n\u001b[1;32m      7\u001b[0m     \u001b[0;31m# Now create the DataFrame\u001b[0m\u001b[0;34m\u001b[0m\u001b[0;34m\u001b[0m\u001b[0m\n",
            "\u001b[0;31mAttributeError\u001b[0m: 'str' object has no attribute 'items'"
          ]
        }
      ]
    },
    {
      "cell_type": "code",
      "source": [
        "create_dataframe_from_dict(t2[1])"
      ],
      "metadata": {
        "colab": {
          "base_uri": "https://localhost:8080/"
        },
        "id": "E9Vg7X5OmyCL",
        "outputId": "71b68711-0f8b-4a98-b6e1-1cc157cab131"
      },
      "execution_count": null,
      "outputs": [
        {
          "output_type": "stream",
          "name": "stdout",
          "text": [
            "Error creating DataFrame: If using all scalar values, you must pass an index\n"
          ]
        }
      ]
    },
    {
      "cell_type": "code",
      "source": [],
      "metadata": {
        "id": "HeYKsrfSnGfL"
      },
      "execution_count": null,
      "outputs": []
    },
    {
      "cell_type": "code",
      "source": [],
      "metadata": {
        "id": "3vaLOGGRlaL5"
      },
      "execution_count": null,
      "outputs": []
    },
    {
      "cell_type": "code",
      "execution_count": null,
      "metadata": {
        "colab": {
          "base_uri": "https://localhost:8080/"
        },
        "id": "kLBijAJ67hD2",
        "outputId": "b45e1316-cf60-4345-8913-29589e7a54f9"
      },
      "outputs": [
        {
          "data": {
            "text/plain": [
              "['SPECIFICATIONS & ',\n",
              " ' Cell & Mono 156.75×156.75mm ',\n",
              " ' Weight & (22.5 {~kg} pm 3 %) ',\n",
              " 'Dimensions & (1960 × 991 × 40 {~mm}) ',\n",
              " ' Cable Cross Section Size & (4 {~mm}^{2}) (12AWG) ',\n",
              " ' No. of cells & (72(6 × 12)) ',\n",
              " ' Junction Box & IP67, 3 diodes ',\n",
              " ' Connector & Amphenol UTX ',\n",
              " ' Packaging Configuration & 27 Per Pallet ']"
            ]
          },
          "execution_count": 17,
          "metadata": {},
          "output_type": "execute_result"
        }
      ],
      "source": [
        "# result.split(\"\\n\")[1:-2]\n",
        "result2=result.replace(\"\\\\\",\"\").replace(\"hline\",\"\").replace(\"mathrm\",'').replace(\"times\",'×').split(\"\\n\")[1:-2]\n",
        "result2"
      ]
    },
    {
      "cell_type": "code",
      "execution_count": null,
      "metadata": {
        "colab": {
          "base_uri": "https://localhost:8080/"
        },
        "id": "R1eZzTd983QZ",
        "outputId": "eff80248-c6b9-482e-8eda-18b9c95b549e"
      },
      "outputs": [
        {
          "data": {
            "text/plain": [
              "[['SPECIFICATIONS ', ' '],\n",
              " [' Cell ', ' Mono 156.75×156.75mm '],\n",
              " [' Weight ', ' (22.5 {~kg} pm 3 %) '],\n",
              " ['Dimensions ', ' (1960 × 991 × 40 {~mm}) '],\n",
              " [' Cable Cross Section Size ', ' (4 {~mm}^{2}) (12AWG) '],\n",
              " [' No. of cells ', ' (72(6 × 12)) '],\n",
              " [' Junction Box ', ' IP67, 3 diodes '],\n",
              " [' Connector ', ' Amphenol UTX '],\n",
              " [' Packaging Configuration ', ' 27 Per Pallet ']]"
            ]
          },
          "execution_count": 19,
          "metadata": {},
          "output_type": "execute_result"
        }
      ],
      "source": [
        "list(map(lambda x:x.split(\"&\"),result2))"
      ]
    },
    {
      "cell_type": "markdown",
      "source": [
        "#  op"
      ],
      "metadata": {
        "id": "R1-SvVAPFp6g"
      }
    },
    {
      "cell_type": "code",
      "source": [
        "image_file = \"/content/op .png\"\n",
        "r = model.chat(tokenizer, image_file, ocr_type='format')"
      ],
      "metadata": {
        "colab": {
          "base_uri": "https://localhost:8080/"
        },
        "id": "2IE_ZI1Fppl4",
        "outputId": "5220e201-0b4e-43da-97e5-1bd5b682b3bb"
      },
      "execution_count": null,
      "outputs": [
        {
          "output_type": "stream",
          "name": "stderr",
          "text": [
            "The attention mask and the pad token id were not set. As a consequence, you may observe unexpected behavior. Please pass your input's `attention_mask` to obtain reliable results.\n",
            "Setting `pad_token_id` to `eos_token_id`:151643 for open-end generation.\n"
          ]
        }
      ]
    },
    {
      "cell_type": "code",
      "source": [
        "r.split(\"\\n\")"
      ],
      "metadata": {
        "colab": {
          "base_uri": "https://localhost:8080/"
        },
        "id": "nU6ajGXEpvMS",
        "outputId": "e689d42c-f5b4-4d68-c5f2-bd5d4d87f8fa"
      },
      "execution_count": null,
      "outputs": [
        {
          "output_type": "execute_result",
          "data": {
            "text/plain": [
              "['\\\\begin{tabular}{|ll|}',\n",
              " '\\\\hline \\\\multicolumn{2}{|c|}{ OPERATING CONDITIONS } \\\\\\\\',\n",
              " 'Maximum System Voltage & \\\\(1000 \\\\mathrm{~V} / 1500 \\\\mathrm{VDC}\\\\) \\\\\\\\',\n",
              " 'Operating Temperature & \\\\(-40^{\\\\circ} \\\\mathrm{C} \\\\sim+85^{\\\\circ} \\\\mathrm{C}\\\\) \\\\\\\\',\n",
              " 'Maximum Series Fuse Rating & \\\\(25 \\\\mathrm{~A}\\\\) \\\\\\\\',\n",
              " 'Maximum Static Load, Front* & \\\\(5400 \\\\mathrm{~Pa}(112 \\\\mathrm{lb} / \\\\mathrm{ft}^{2}\\\\) \\\\\\\\',\n",
              " 'Maximum Static Load, Back* & \\\\(2400 \\\\mathrm{~Pa}(50 \\\\mathrm{lb} / \\\\mathrm{ft}^{2})\\\\) \\\\\\\\',\n",
              " 'NOCT & \\\\(45 \\\\pm 2^{\\\\circ} \\\\mathrm{C}\\\\) \\\\\\\\',\n",
              " 'Safety Class & Class II \\\\\\\\',\n",
              " 'Fire Performance & UL Type 1 \\\\\\\\',\n",
              " '\\\\hline',\n",
              " '\\\\end{tabular}']"
            ]
          },
          "metadata": {},
          "execution_count": 38
        }
      ]
    },
    {
      "cell_type": "code",
      "source": [
        "create_dataframe_from_dict(table(r,1)[1]).T"
      ],
      "metadata": {
        "colab": {
          "base_uri": "https://localhost:8080/",
          "height": 300
        },
        "id": "jYPHTF-FqzAd",
        "outputId": "a97585c2-cd8d-488c-cb05-1708d58f8100"
      },
      "execution_count": null,
      "outputs": [
        {
          "output_type": "execute_result",
          "data": {
            "text/plain": [
              "                                                              0\n",
              "Maximum System Voltage                 (1000 {~V} / 1500 {VDC})\n",
              "Operating Temperature        (-40^{circ} {C} sim+85^{circ} {C})\n",
              "Maximum Series Fuse Rating                            (25 {~A})\n",
              "Maximum Static Load, Front*    (5400 {~Pa}(112 {lb} / {ft}^{2})\n",
              "Maximum Static Load, Back*     (2400 {~Pa}(50 {lb} / {ft}^{2}))\n",
              "NOCT                                       (45 pm 2^{circ} {C})\n",
              "Safety Class                                           Class II\n",
              "Fire Performance                                      UL Type 1"
            ],
            "text/html": [
              "\n",
              "  <div id=\"df-a581fc20-cc71-4c49-8651-d37e76846409\" class=\"colab-df-container\">\n",
              "    <div>\n",
              "<style scoped>\n",
              "    .dataframe tbody tr th:only-of-type {\n",
              "        vertical-align: middle;\n",
              "    }\n",
              "\n",
              "    .dataframe tbody tr th {\n",
              "        vertical-align: top;\n",
              "    }\n",
              "\n",
              "    .dataframe thead th {\n",
              "        text-align: right;\n",
              "    }\n",
              "</style>\n",
              "<table border=\"1\" class=\"dataframe\">\n",
              "  <thead>\n",
              "    <tr style=\"text-align: right;\">\n",
              "      <th></th>\n",
              "      <th>0</th>\n",
              "    </tr>\n",
              "  </thead>\n",
              "  <tbody>\n",
              "    <tr>\n",
              "      <th>Maximum System Voltage</th>\n",
              "      <td>(1000 {~V} / 1500 {VDC})</td>\n",
              "    </tr>\n",
              "    <tr>\n",
              "      <th>Operating Temperature</th>\n",
              "      <td>(-40^{circ} {C} sim+85^{circ} {C})</td>\n",
              "    </tr>\n",
              "    <tr>\n",
              "      <th>Maximum Series Fuse Rating</th>\n",
              "      <td>(25 {~A})</td>\n",
              "    </tr>\n",
              "    <tr>\n",
              "      <th>Maximum Static Load, Front*</th>\n",
              "      <td>(5400 {~Pa}(112 {lb} / {ft}^{2})</td>\n",
              "    </tr>\n",
              "    <tr>\n",
              "      <th>Maximum Static Load, Back*</th>\n",
              "      <td>(2400 {~Pa}(50 {lb} / {ft}^{2}))</td>\n",
              "    </tr>\n",
              "    <tr>\n",
              "      <th>NOCT</th>\n",
              "      <td>(45 pm 2^{circ} {C})</td>\n",
              "    </tr>\n",
              "    <tr>\n",
              "      <th>Safety Class</th>\n",
              "      <td>Class II</td>\n",
              "    </tr>\n",
              "    <tr>\n",
              "      <th>Fire Performance</th>\n",
              "      <td>UL Type 1</td>\n",
              "    </tr>\n",
              "  </tbody>\n",
              "</table>\n",
              "</div>\n",
              "    <div class=\"colab-df-buttons\">\n",
              "\n",
              "  <div class=\"colab-df-container\">\n",
              "    <button class=\"colab-df-convert\" onclick=\"convertToInteractive('df-a581fc20-cc71-4c49-8651-d37e76846409')\"\n",
              "            title=\"Convert this dataframe to an interactive table.\"\n",
              "            style=\"display:none;\">\n",
              "\n",
              "  <svg xmlns=\"http://www.w3.org/2000/svg\" height=\"24px\" viewBox=\"0 -960 960 960\">\n",
              "    <path d=\"M120-120v-720h720v720H120Zm60-500h600v-160H180v160Zm220 220h160v-160H400v160Zm0 220h160v-160H400v160ZM180-400h160v-160H180v160Zm440 0h160v-160H620v160ZM180-180h160v-160H180v160Zm440 0h160v-160H620v160Z\"/>\n",
              "  </svg>\n",
              "    </button>\n",
              "\n",
              "  <style>\n",
              "    .colab-df-container {\n",
              "      display:flex;\n",
              "      gap: 12px;\n",
              "    }\n",
              "\n",
              "    .colab-df-convert {\n",
              "      background-color: #E8F0FE;\n",
              "      border: none;\n",
              "      border-radius: 50%;\n",
              "      cursor: pointer;\n",
              "      display: none;\n",
              "      fill: #1967D2;\n",
              "      height: 32px;\n",
              "      padding: 0 0 0 0;\n",
              "      width: 32px;\n",
              "    }\n",
              "\n",
              "    .colab-df-convert:hover {\n",
              "      background-color: #E2EBFA;\n",
              "      box-shadow: 0px 1px 2px rgba(60, 64, 67, 0.3), 0px 1px 3px 1px rgba(60, 64, 67, 0.15);\n",
              "      fill: #174EA6;\n",
              "    }\n",
              "\n",
              "    .colab-df-buttons div {\n",
              "      margin-bottom: 4px;\n",
              "    }\n",
              "\n",
              "    [theme=dark] .colab-df-convert {\n",
              "      background-color: #3B4455;\n",
              "      fill: #D2E3FC;\n",
              "    }\n",
              "\n",
              "    [theme=dark] .colab-df-convert:hover {\n",
              "      background-color: #434B5C;\n",
              "      box-shadow: 0px 1px 3px 1px rgba(0, 0, 0, 0.15);\n",
              "      filter: drop-shadow(0px 1px 2px rgba(0, 0, 0, 0.3));\n",
              "      fill: #FFFFFF;\n",
              "    }\n",
              "  </style>\n",
              "\n",
              "    <script>\n",
              "      const buttonEl =\n",
              "        document.querySelector('#df-a581fc20-cc71-4c49-8651-d37e76846409 button.colab-df-convert');\n",
              "      buttonEl.style.display =\n",
              "        google.colab.kernel.accessAllowed ? 'block' : 'none';\n",
              "\n",
              "      async function convertToInteractive(key) {\n",
              "        const element = document.querySelector('#df-a581fc20-cc71-4c49-8651-d37e76846409');\n",
              "        const dataTable =\n",
              "          await google.colab.kernel.invokeFunction('convertToInteractive',\n",
              "                                                    [key], {});\n",
              "        if (!dataTable) return;\n",
              "\n",
              "        const docLinkHtml = 'Like what you see? Visit the ' +\n",
              "          '<a target=\"_blank\" href=https://colab.research.google.com/notebooks/data_table.ipynb>data table notebook</a>'\n",
              "          + ' to learn more about interactive tables.';\n",
              "        element.innerHTML = '';\n",
              "        dataTable['output_type'] = 'display_data';\n",
              "        await google.colab.output.renderOutput(dataTable, element);\n",
              "        const docLink = document.createElement('div');\n",
              "        docLink.innerHTML = docLinkHtml;\n",
              "        element.appendChild(docLink);\n",
              "      }\n",
              "    </script>\n",
              "  </div>\n",
              "\n",
              "\n",
              "<div id=\"df-3e820d73-d5b7-4a76-871d-6926b067051f\">\n",
              "  <button class=\"colab-df-quickchart\" onclick=\"quickchart('df-3e820d73-d5b7-4a76-871d-6926b067051f')\"\n",
              "            title=\"Suggest charts\"\n",
              "            style=\"display:none;\">\n",
              "\n",
              "<svg xmlns=\"http://www.w3.org/2000/svg\" height=\"24px\"viewBox=\"0 0 24 24\"\n",
              "     width=\"24px\">\n",
              "    <g>\n",
              "        <path d=\"M19 3H5c-1.1 0-2 .9-2 2v14c0 1.1.9 2 2 2h14c1.1 0 2-.9 2-2V5c0-1.1-.9-2-2-2zM9 17H7v-7h2v7zm4 0h-2V7h2v10zm4 0h-2v-4h2v4z\"/>\n",
              "    </g>\n",
              "</svg>\n",
              "  </button>\n",
              "\n",
              "<style>\n",
              "  .colab-df-quickchart {\n",
              "      --bg-color: #E8F0FE;\n",
              "      --fill-color: #1967D2;\n",
              "      --hover-bg-color: #E2EBFA;\n",
              "      --hover-fill-color: #174EA6;\n",
              "      --disabled-fill-color: #AAA;\n",
              "      --disabled-bg-color: #DDD;\n",
              "  }\n",
              "\n",
              "  [theme=dark] .colab-df-quickchart {\n",
              "      --bg-color: #3B4455;\n",
              "      --fill-color: #D2E3FC;\n",
              "      --hover-bg-color: #434B5C;\n",
              "      --hover-fill-color: #FFFFFF;\n",
              "      --disabled-bg-color: #3B4455;\n",
              "      --disabled-fill-color: #666;\n",
              "  }\n",
              "\n",
              "  .colab-df-quickchart {\n",
              "    background-color: var(--bg-color);\n",
              "    border: none;\n",
              "    border-radius: 50%;\n",
              "    cursor: pointer;\n",
              "    display: none;\n",
              "    fill: var(--fill-color);\n",
              "    height: 32px;\n",
              "    padding: 0;\n",
              "    width: 32px;\n",
              "  }\n",
              "\n",
              "  .colab-df-quickchart:hover {\n",
              "    background-color: var(--hover-bg-color);\n",
              "    box-shadow: 0 1px 2px rgba(60, 64, 67, 0.3), 0 1px 3px 1px rgba(60, 64, 67, 0.15);\n",
              "    fill: var(--button-hover-fill-color);\n",
              "  }\n",
              "\n",
              "  .colab-df-quickchart-complete:disabled,\n",
              "  .colab-df-quickchart-complete:disabled:hover {\n",
              "    background-color: var(--disabled-bg-color);\n",
              "    fill: var(--disabled-fill-color);\n",
              "    box-shadow: none;\n",
              "  }\n",
              "\n",
              "  .colab-df-spinner {\n",
              "    border: 2px solid var(--fill-color);\n",
              "    border-color: transparent;\n",
              "    border-bottom-color: var(--fill-color);\n",
              "    animation:\n",
              "      spin 1s steps(1) infinite;\n",
              "  }\n",
              "\n",
              "  @keyframes spin {\n",
              "    0% {\n",
              "      border-color: transparent;\n",
              "      border-bottom-color: var(--fill-color);\n",
              "      border-left-color: var(--fill-color);\n",
              "    }\n",
              "    20% {\n",
              "      border-color: transparent;\n",
              "      border-left-color: var(--fill-color);\n",
              "      border-top-color: var(--fill-color);\n",
              "    }\n",
              "    30% {\n",
              "      border-color: transparent;\n",
              "      border-left-color: var(--fill-color);\n",
              "      border-top-color: var(--fill-color);\n",
              "      border-right-color: var(--fill-color);\n",
              "    }\n",
              "    40% {\n",
              "      border-color: transparent;\n",
              "      border-right-color: var(--fill-color);\n",
              "      border-top-color: var(--fill-color);\n",
              "    }\n",
              "    60% {\n",
              "      border-color: transparent;\n",
              "      border-right-color: var(--fill-color);\n",
              "    }\n",
              "    80% {\n",
              "      border-color: transparent;\n",
              "      border-right-color: var(--fill-color);\n",
              "      border-bottom-color: var(--fill-color);\n",
              "    }\n",
              "    90% {\n",
              "      border-color: transparent;\n",
              "      border-bottom-color: var(--fill-color);\n",
              "    }\n",
              "  }\n",
              "</style>\n",
              "\n",
              "  <script>\n",
              "    async function quickchart(key) {\n",
              "      const quickchartButtonEl =\n",
              "        document.querySelector('#' + key + ' button');\n",
              "      quickchartButtonEl.disabled = true;  // To prevent multiple clicks.\n",
              "      quickchartButtonEl.classList.add('colab-df-spinner');\n",
              "      try {\n",
              "        const charts = await google.colab.kernel.invokeFunction(\n",
              "            'suggestCharts', [key], {});\n",
              "      } catch (error) {\n",
              "        console.error('Error during call to suggestCharts:', error);\n",
              "      }\n",
              "      quickchartButtonEl.classList.remove('colab-df-spinner');\n",
              "      quickchartButtonEl.classList.add('colab-df-quickchart-complete');\n",
              "    }\n",
              "    (() => {\n",
              "      let quickchartButtonEl =\n",
              "        document.querySelector('#df-3e820d73-d5b7-4a76-871d-6926b067051f button');\n",
              "      quickchartButtonEl.style.display =\n",
              "        google.colab.kernel.accessAllowed ? 'block' : 'none';\n",
              "    })();\n",
              "  </script>\n",
              "</div>\n",
              "\n",
              "    </div>\n",
              "  </div>\n"
            ],
            "application/vnd.google.colaboratory.intrinsic+json": {
              "type": "dataframe",
              "summary": "{\n  \"name\": \"create_dataframe_from_dict(table(r,1)[1])\",\n  \"rows\": 8,\n  \"fields\": [\n    {\n      \"column\": 0,\n      \"properties\": {\n        \"dtype\": \"string\",\n        \"num_unique_values\": 8,\n        \"samples\": [\n          \"(-40^{circ} {C} sim+85^{circ} {C})\",\n          \"(45 pm 2^{circ} {C})\",\n          \"(1000 {~V} / 1500 {VDC})\"\n        ],\n        \"semantic_type\": \"\",\n        \"description\": \"\"\n      }\n    }\n  ]\n}"
            }
          },
          "metadata": {},
          "execution_count": 43
        }
      ]
    },
    {
      "cell_type": "markdown",
      "source": [
        "# stc"
      ],
      "metadata": {
        "id": "54KsbLvHrvfB"
      }
    },
    {
      "cell_type": "code",
      "source": [
        "image_file = \"/content/stc1.png\"\n",
        "r = model.chat(tokenizer, image_file, ocr_type='format')"
      ],
      "metadata": {
        "colab": {
          "base_uri": "https://localhost:8080/"
        },
        "id": "poQPBM1VvFZr",
        "outputId": "8f82c43a-2bff-48d3-f845-8502d637a584"
      },
      "execution_count": null,
      "outputs": [
        {
          "output_type": "stream",
          "name": "stderr",
          "text": [
            "The attention mask and the pad token id were not set. As a consequence, you may observe unexpected behavior. Please pass your input's `attention_mask` to obtain reliable results.\n",
            "Setting `pad_token_id` to `eos_token_id`:151643 for open-end generation.\n",
            "The attention mask is not set and cannot be inferred from input because pad token is same as eos token. As a consequence, you may observe unexpected behavior. Please pass your input's `attention_mask` to obtain reliable results.\n",
            "The `seen_tokens` attribute is deprecated and will be removed in v4.41. Use the `cache_position` model input instead.\n",
            "`get_max_cache()` is deprecated for all Cache classes. Use `get_max_cache_shape()` instead. Calling `get_max_cache()` will raise error from v4.48\n"
          ]
        }
      ]
    },
    {
      "cell_type": "code",
      "source": [
        "r.split('\\n')"
      ],
      "metadata": {
        "colab": {
          "base_uri": "https://localhost:8080/"
        },
        "id": "gT2E6yoWyTAV",
        "outputId": "b56ea403-2464-4b9d-b765-8ec2f4cc4e7e"
      },
      "execution_count": null,
      "outputs": [
        {
          "output_type": "execute_result",
          "data": {
            "text/plain": [
              "['\\\\begin{tabular}{|c|c|c|c|c|c|}',\n",
              " '\\\\hline \\\\multicolumn{6}{|c|}{ ELECTRICAL PARAMETERS AT STC } \\\\\\\\',\n",
              " '\\\\hline TYPE & \\\\begin{tabular}{l} ',\n",
              " 'JAM72S01 \\\\\\\\',\n",
              " '-340/PR',\n",
              " '\\\\end{tabular} & \\\\begin{tabular}{l} ',\n",
              " 'JAM72S01 \\\\\\\\',\n",
              " '-435/PR',\n",
              " '\\\\end{tabular} & \\\\begin{tabular}{l} ',\n",
              " 'IAM72S01 \\\\\\\\',\n",
              " '-350/PR',\n",
              " '\\\\end{tabular} & \\\\begin{tabular}{l}�M72S01 \\\\\\\\',\n",
              " '-355/PR',\n",
              " '\\\\end{tabular} & \\\\begin{tabular}{l} \\\\\\\\',\n",
              " 'JAM72S01 \\\\\\\\',\n",
              " '-360/PR',\n",
              " '\\\\end{tabular} \\\\\\\\',\n",
              " '\\\\hline Rated Maximum Power (Pmax) [W] & 340 & 345 & 350 & 355 & 360 \\\\\\\\',\n",
              " '\\\\hline Open Circuit Voltage (Voc) [V] & 46.86 & 47.05 & 47.24 & 47.45 & 47.66 \\\\\\\\',\n",
              " '\\\\hline Maximum Power Voltage (Vmp) [V] & 38.18 & 38.39 & 38.58 & 38.76 & 38.96 \\\\\\\\',\n",
              " '\\\\hline Short Circuit Current (Isc) [A] & 9.46 & 9.54 & 9.61 & 9.69 & 9.78 \\\\\\\\',\n",
              " '\\\\hline Maximum Power Current (Imp) [A] & 8.91 & 8.99 & 9.07 & 9.16 & 9.24 \\\\\\\\',\n",
              " '\\\\hline Module Efficiency [\\\\%] & 17.50 & 17.76 & 18.02 & 18.28 & 18.53 \\\\\\\\',\n",
              " '\\\\hline Power Tolerance & & & \\\\(-0 \\\\sim+5 W\\\\) & & \\\\\\\\',\n",
              " '\\\\hline Temperature Coefficient of Isc (a_ Isc) & & & \\\\(+0.060 \\\\% /{ }^{\\\\circ} \\\\mathrm{C}\\\\) & & \\\\\\\\',\n",
              " '\\\\hline Temperature Coefficient of Voc ( \\\\(\\\\beta \\\\_\\\\)Voc) & & & \\\\(-0.300 \\\\% /{ }^{\\\\circ} \\\\mathrm{C}\\\\) & & \\\\\\\\',\n",
              " '\\\\cline { 1 - 2 } \\\\begin{tabular}{l} ',\n",
              " 'Temperature Coefficient of Pmax (y_Pmp) \\\\\\\\',\n",
              " 'STC',\n",
              " '\\\\end{tabular} & & & \\\\(-0.390 \\\\% /{ }^{\\\\circ} \\\\mathrm{C}\\\\) & & \\\\\\\\',\n",
              " '\\\\end{tabular}']"
            ]
          },
          "metadata": {},
          "execution_count": 6
        }
      ]
    },
    {
      "cell_type": "markdown",
      "source": [],
      "metadata": {
        "id": "uIi7HdkmCrsR"
      }
    },
    {
      "cell_type": "code",
      "source": [
        "r=\"\\n\".join(['\\\\begin{tabular}{|c|c|c|c|c|c|}',\n",
        " '\\\\hline \\\\multicolumn{6}{|c|}{ ELECTRICAL PARAMETERS AT STC } \\\\\\\\',\n",
        " '\\\\hline TYPE & \\\\begin{tabular}{l} ',\n",
        " 'JAM72S01 \\\\\\\\',\n",
        " '-340/PR',\n",
        " '\\\\end{tabular} & \\\\begin{tabular}{l} ',\n",
        " 'JAM72S01 \\\\\\\\',\n",
        " '-435/PR',\n",
        " '\\\\end{tabular} & \\\\begin{tabular}{l} ',\n",
        " 'IAM72S01 \\\\\\\\',\n",
        " '-350/PR',\n",
        " '\\\\end{tabular} & \\\\begin{tabular}{l}�M72S01 \\\\\\\\',\n",
        " '-355/PR',\n",
        " '\\\\end{tabular} & \\\\begin{tabular}{l} \\\\\\\\',\n",
        " 'JAM72S01 \\\\\\\\',\n",
        " '-360/PR',\n",
        " '\\\\end{tabular} \\\\\\\\',\n",
        " '\\\\hline Rated Maximum Power (Pmax) [W] & 340 & 345 & 350 & 355 & 360 \\\\\\\\',\n",
        " '\\\\hline Open Circuit Voltage (Voc) [V] & 46.86 & 47.05 & 47.24 & 47.45 & 47.66 \\\\\\\\',\n",
        " '\\\\hline Maximum Power Voltage (Vmp) [V] & 38.18 & 38.39 & 38.58 & 38.76 & 38.96 \\\\\\\\',\n",
        " '\\\\hline Short Circuit Current (Isc) [A] & 9.46 & 9.54 & 9.61 & 9.69 & 9.78 \\\\\\\\',\n",
        " '\\\\hline Maximum Power Current (Imp) [A] & 8.91 & 8.99 & 9.07 & 9.16 & 9.24 \\\\\\\\',\n",
        " '\\\\hline Module Efficiency [\\\\%] & 17.50 & 17.76 & 18.02 & 18.28 & 18.53 \\\\\\\\',\n",
        " '\\\\hline Power Tolerance & & & \\\\(-0 \\\\sim+5 W\\\\) & & \\\\\\\\',\n",
        " '\\\\hline Temperature Coefficient of Isc (a_ Isc) & & & \\\\(+0.060 \\\\% /{ }^{\\\\circ} \\\\mathrm{C}\\\\) & & \\\\\\\\',\n",
        " '\\\\hline Temperature Coefficient of Voc ( \\\\(\\\\beta \\\\_\\\\)Voc) & & & \\\\(-0.300 \\\\% /{ }^{\\\\circ} \\\\mathrm{C}\\\\) & & \\\\\\\\',\n",
        " '\\\\cline { 1 - 2 } \\\\begin{tabular}{l} ',\n",
        " 'Temperature Coefficient of Pmax (y_Pmp) \\\\\\\\',\n",
        " 'STC',\n",
        " '\\\\end{tabular} & & & \\\\(-0.390 \\\\% /{ }^{\\\\circ} \\\\mathrm{C}\\\\) & & \\\\\\\\',\n",
        " '\\\\end{tabular}'])"
      ],
      "metadata": {
        "id": "eRGVW0ahHj7g"
      },
      "execution_count": null,
      "outputs": []
    },
    {
      "cell_type": "code",
      "source": [
        "r"
      ],
      "metadata": {
        "colab": {
          "base_uri": "https://localhost:8080/",
          "height": 165
        },
        "id": "sInbps_7H6Nk",
        "outputId": "bb9d98bb-ee88-40f4-8f2b-6941d448ce25"
      },
      "execution_count": null,
      "outputs": [
        {
          "output_type": "execute_result",
          "data": {
            "text/plain": [
              "'\\\\begin{tabular}{|c|c|c|c|c|c|}\\n\\\\hline \\\\multicolumn{6}{|c|}{ ELECTRICAL PARAMETERS AT STC } \\\\\\\\\\n\\\\hline TYPE & \\\\begin{tabular}{l} \\nJAM72S01 \\\\\\\\\\n-340/PR\\n\\\\end{tabular} & \\\\begin{tabular}{l} \\nJAM72S01 \\\\\\\\\\n-435/PR\\n\\\\end{tabular} & \\\\begin{tabular}{l} \\nIAM72S01 \\\\\\\\\\n-350/PR\\n\\\\end{tabular} & \\\\begin{tabular}{l}�M72S01 \\\\\\\\\\n-355/PR\\n\\\\end{tabular} & \\\\begin{tabular}{l} \\\\\\\\\\nJAM72S01 \\\\\\\\\\n-360/PR\\n\\\\end{tabular} \\\\\\\\\\n\\\\hline Rated Maximum Power (Pmax) [W] & 340 & 345 & 350 & 355 & 360 \\\\\\\\\\n\\\\hline Open Circuit Voltage (Voc) [V] & 46.86 & 47.05 & 47.24 & 47.45 & 47.66 \\\\\\\\\\n\\\\hline Maximum Power Voltage (Vmp) [V] & 38.18 & 38.39 & 38.58 & 38.76 & 38.96 \\\\\\\\\\n\\\\hline Short Circuit Current (Isc) [A] & 9.46 & 9.54 & 9.61 & 9.69 & 9.78 \\\\\\\\\\n\\\\hline Maximum Power Current (Imp) [A] & 8.91 & 8.99 & 9.07 & 9.16 & 9.24 \\\\\\\\\\n\\\\hline Module Efficiency [\\\\%] & 17.50 & 17.76 & 18.02 & 18.28 & 18.53 \\\\\\\\\\n\\\\hline Power Tolerance & & & \\\\(-0 \\\\sim+5 W\\\\) & & \\\\\\\\\\n\\\\hline Temperature Coefficient of Isc (a_ Isc) & & & \\\\(+0.060 \\\\% /{ }^{\\\\circ} \\\\mathrm{C}\\\\) & & \\\\\\\\\\n\\\\hline Temperature Coefficient of Voc ( \\\\(\\\\beta \\\\_\\\\)Voc) & & & \\\\(-0.300 \\\\% /{ }^{\\\\circ} \\\\mathrm{C}\\\\) & & \\\\\\\\\\n\\\\cline { 1 - 2 } \\\\begin{tabular}{l} \\nTemperature Coefficient of Pmax (y_Pmp) \\\\\\\\\\nSTC\\n\\\\end{tabular} & & & \\\\(-0.390 \\\\% /{ }^{\\\\circ} \\\\mathrm{C}\\\\) & & \\\\\\\\\\n\\\\end{tabular}'"
            ],
            "application/vnd.google.colaboratory.intrinsic+json": {
              "type": "string"
            }
          },
          "metadata": {},
          "execution_count": 3
        }
      ]
    },
    {
      "cell_type": "code",
      "source": [
        "r2=r.replace(\"\\\\\",'').replace(\"hline\",'').split('\\n')\n",
        "r3=[]\n",
        "for i in r2[3:]:\n",
        "    for j in i.split(\"&\"):\n",
        "        if \"tabular\" in j :\n",
        "            continue\n",
        "\n",
        "        r3.append(j.strip())\n"
      ],
      "metadata": {
        "id": "JQYlEGxgvInG"
      },
      "execution_count": null,
      "outputs": []
    },
    {
      "cell_type": "code",
      "source": [
        "r3"
      ],
      "metadata": {
        "colab": {
          "base_uri": "https://localhost:8080/"
        },
        "id": "IQg1bKarH9uo",
        "outputId": "5dc743fa-5acb-47cf-addd-f2be8fb5b376"
      },
      "execution_count": null,
      "outputs": [
        {
          "output_type": "execute_result",
          "data": {
            "text/plain": [
              "['JAM72S01',\n",
              " '-340/PR',\n",
              " 'JAM72S01',\n",
              " '-435/PR',\n",
              " 'IAM72S01',\n",
              " '-350/PR',\n",
              " '-355/PR',\n",
              " 'JAM72S01',\n",
              " '-360/PR',\n",
              " 'Rated Maximum Power (Pmax) [W]',\n",
              " '340',\n",
              " '345',\n",
              " '350',\n",
              " '355',\n",
              " '360',\n",
              " 'Open Circuit Voltage (Voc) [V]',\n",
              " '46.86',\n",
              " '47.05',\n",
              " '47.24',\n",
              " '47.45',\n",
              " '47.66',\n",
              " 'Maximum Power Voltage (Vmp) [V]',\n",
              " '38.18',\n",
              " '38.39',\n",
              " '38.58',\n",
              " '38.76',\n",
              " '38.96',\n",
              " 'Short Circuit Current (Isc) [A]',\n",
              " '9.46',\n",
              " '9.54',\n",
              " '9.61',\n",
              " '9.69',\n",
              " '9.78',\n",
              " 'Maximum Power Current (Imp) [A]',\n",
              " '8.91',\n",
              " '8.99',\n",
              " '9.07',\n",
              " '9.16',\n",
              " '9.24',\n",
              " 'Module Efficiency [%]',\n",
              " '17.50',\n",
              " '17.76',\n",
              " '18.02',\n",
              " '18.28',\n",
              " '18.53',\n",
              " 'Power Tolerance',\n",
              " '',\n",
              " '',\n",
              " '(-0 sim+5 W)',\n",
              " '',\n",
              " '',\n",
              " 'Temperature Coefficient of Isc (a_ Isc)',\n",
              " '',\n",
              " '',\n",
              " '(+0.060 % /{ }^{circ} mathrm{C})',\n",
              " '',\n",
              " '',\n",
              " 'Temperature Coefficient of Voc ( (beta _)Voc)',\n",
              " '',\n",
              " '',\n",
              " '(-0.300 % /{ }^{circ} mathrm{C})',\n",
              " '',\n",
              " '',\n",
              " 'Temperature Coefficient of Pmax (y_Pmp)',\n",
              " 'STC',\n",
              " '',\n",
              " '',\n",
              " '(-0.390 % /{ }^{circ} mathrm{C})',\n",
              " '',\n",
              " '']"
            ]
          },
          "metadata": {},
          "execution_count": 105
        }
      ]
    },
    {
      "cell_type": "code",
      "source": [
        "def stc(r):\n",
        "    r2=r.replace(\"\\\\\",'').replace(\"hline\",'').split('\\n')\n",
        "    r3=[]\n",
        "    for i in r2[3:]:\n",
        "        for j in i.split(\"&\"):\n",
        "            if \"tabular\" in j :\n",
        "                continue\n",
        "\n",
        "            r3.append(j.strip())\n",
        "\n",
        "    col2=r3[:9]\n",
        "\n",
        "    t=col2[0]\n",
        "\n",
        "    col2=[t+i for i in col2 if t[-4:] not in i]\n",
        "    index_separate = r3[9:].index(\"Power Tolerance\")\n",
        "    t2=r3[9:][:index_separate]\n",
        "\n",
        "    col1=[]\n",
        "    val = []\n",
        "    for i in t2:\n",
        "        if i[0].isalpha():\n",
        "            col1.append(i)\n",
        "        else:\n",
        "            val =val +[i]\n",
        "    col =[]\n",
        "    for c1 in col1:\n",
        "        for c2 in col2:\n",
        "            col.append(c1+\"_\"+c2)\n",
        "    if \"STC\" in r3:\n",
        "        r3.remove(\"STC\")\n",
        "    t_down=[i for i in r3[r3.index(\"Power Tolerance\"):]  if len(i)>2]\n",
        "    out={k:v for k,v in zip(col,val)}\n",
        "\n",
        "    key=[]\n",
        "    value=[]\n",
        "    for i in range(len(t_down)):\n",
        "        if i%2==0:\n",
        "            key.append(t_down[i])\n",
        "        else:\n",
        "            value.append(t_down[i])\n",
        "    out.update({k:v for k,v in zip(key,value)})\n",
        "    return out\n"
      ],
      "metadata": {
        "id": "r2wGCFRjvNEa"
      },
      "execution_count": null,
      "outputs": []
    },
    {
      "cell_type": "code",
      "source": [
        "stc(r)"
      ],
      "metadata": {
        "colab": {
          "base_uri": "https://localhost:8080/"
        },
        "id": "zxkP_9RnPcqF",
        "outputId": "9de4385d-dd7b-45d1-fc86-80f8433131c7"
      },
      "execution_count": null,
      "outputs": [
        {
          "output_type": "execute_result",
          "data": {
            "text/plain": [
              "{'Rated Maximum Power (Pmax) [W]_JAM72S01-340/PR': '340',\n",
              " 'Rated Maximum Power (Pmax) [W]_JAM72S01-435/PR': '345',\n",
              " 'Rated Maximum Power (Pmax) [W]_JAM72S01-350/PR': '350',\n",
              " 'Rated Maximum Power (Pmax) [W]_JAM72S01-355/PR': '355',\n",
              " 'Rated Maximum Power (Pmax) [W]_JAM72S01-360/PR': '360',\n",
              " 'Open Circuit Voltage (Voc) [V]_JAM72S01-340/PR': '46.86',\n",
              " 'Open Circuit Voltage (Voc) [V]_JAM72S01-435/PR': '47.05',\n",
              " 'Open Circuit Voltage (Voc) [V]_JAM72S01-350/PR': '47.24',\n",
              " 'Open Circuit Voltage (Voc) [V]_JAM72S01-355/PR': '47.45',\n",
              " 'Open Circuit Voltage (Voc) [V]_JAM72S01-360/PR': '47.66',\n",
              " 'Maximum Power Voltage (Vmp) [V]_JAM72S01-340/PR': '38.18',\n",
              " 'Maximum Power Voltage (Vmp) [V]_JAM72S01-435/PR': '38.39',\n",
              " 'Maximum Power Voltage (Vmp) [V]_JAM72S01-350/PR': '38.58',\n",
              " 'Maximum Power Voltage (Vmp) [V]_JAM72S01-355/PR': '38.76',\n",
              " 'Maximum Power Voltage (Vmp) [V]_JAM72S01-360/PR': '38.96',\n",
              " 'Short Circuit Current (Isc) [A]_JAM72S01-340/PR': '9.46',\n",
              " 'Short Circuit Current (Isc) [A]_JAM72S01-435/PR': '9.54',\n",
              " 'Short Circuit Current (Isc) [A]_JAM72S01-350/PR': '9.61',\n",
              " 'Short Circuit Current (Isc) [A]_JAM72S01-355/PR': '9.69',\n",
              " 'Short Circuit Current (Isc) [A]_JAM72S01-360/PR': '9.78',\n",
              " 'Maximum Power Current (Imp) [A]_JAM72S01-340/PR': '8.91',\n",
              " 'Maximum Power Current (Imp) [A]_JAM72S01-435/PR': '8.99',\n",
              " 'Maximum Power Current (Imp) [A]_JAM72S01-350/PR': '9.07',\n",
              " 'Maximum Power Current (Imp) [A]_JAM72S01-355/PR': '9.16',\n",
              " 'Maximum Power Current (Imp) [A]_JAM72S01-360/PR': '9.24',\n",
              " 'Module Efficiency [%]_JAM72S01-340/PR': '17.50',\n",
              " 'Module Efficiency [%]_JAM72S01-435/PR': '17.76',\n",
              " 'Module Efficiency [%]_JAM72S01-350/PR': '18.02',\n",
              " 'Module Efficiency [%]_JAM72S01-355/PR': '18.28',\n",
              " 'Module Efficiency [%]_JAM72S01-360/PR': '18.53',\n",
              " 'Power Tolerance': '(-0 sim+5 W)',\n",
              " 'Temperature Coefficient of Isc (a_ Isc)': '(+0.060 % /{ }^{circ} mathrm{C})',\n",
              " 'Temperature Coefficient of Voc ( (beta _)Voc)': '(-0.300 % /{ }^{circ} mathrm{C})',\n",
              " 'Temperature Coefficient of Pmax (y_Pmp)': '(-0.390 % /{ }^{circ} mathrm{C})'}"
            ]
          },
          "metadata": {},
          "execution_count": 116
        }
      ]
    },
    {
      "cell_type": "code",
      "source": [
        "create_dataframe_from_dict(stc(r)).T"
      ],
      "metadata": {
        "colab": {
          "base_uri": "https://localhost:8080/",
          "height": 1000
        },
        "id": "P_JtqeJWZNZ5",
        "outputId": "7af2de59-6741-4f6b-a4c7-d1baf53f37a3"
      },
      "execution_count": null,
      "outputs": [
        {
          "output_type": "execute_result",
          "data": {
            "text/plain": [
              "                                                                                0\n",
              "Rated Maximum Power (Pmax) [W]_JAM72S01-340/PR                                340\n",
              "Rated Maximum Power (Pmax) [W]_JAM72S01-435/PR                                345\n",
              "Rated Maximum Power (Pmax) [W]_JAM72S01-350/PR                                350\n",
              "Rated Maximum Power (Pmax) [W]_JAM72S01-355/PR                                355\n",
              "Rated Maximum Power (Pmax) [W]_JAM72S01-360/PR                                360\n",
              "Open Circuit Voltage (Voc) [V]_JAM72S01-340/PR                              46.86\n",
              "Open Circuit Voltage (Voc) [V]_JAM72S01-435/PR                              47.05\n",
              "Open Circuit Voltage (Voc) [V]_JAM72S01-350/PR                              47.24\n",
              "Open Circuit Voltage (Voc) [V]_JAM72S01-355/PR                              47.45\n",
              "Open Circuit Voltage (Voc) [V]_JAM72S01-360/PR                              47.66\n",
              "Maximum Power Voltage (Vmp) [V]_JAM72S01-340/PR                             38.18\n",
              "Maximum Power Voltage (Vmp) [V]_JAM72S01-435/PR                             38.39\n",
              "Maximum Power Voltage (Vmp) [V]_JAM72S01-350/PR                             38.58\n",
              "Maximum Power Voltage (Vmp) [V]_JAM72S01-355/PR                             38.76\n",
              "Maximum Power Voltage (Vmp) [V]_JAM72S01-360/PR                             38.96\n",
              "Short Circuit Current (Isc) [A]_JAM72S01-340/PR                              9.46\n",
              "Short Circuit Current (Isc) [A]_JAM72S01-435/PR                              9.54\n",
              "Short Circuit Current (Isc) [A]_JAM72S01-350/PR                              9.61\n",
              "Short Circuit Current (Isc) [A]_JAM72S01-355/PR                              9.69\n",
              "Short Circuit Current (Isc) [A]_JAM72S01-360/PR                              9.78\n",
              "Maximum Power Current (Imp) [A]_JAM72S01-340/PR                              8.91\n",
              "Maximum Power Current (Imp) [A]_JAM72S01-435/PR                              8.99\n",
              "Maximum Power Current (Imp) [A]_JAM72S01-350/PR                              9.07\n",
              "Maximum Power Current (Imp) [A]_JAM72S01-355/PR                              9.16\n",
              "Maximum Power Current (Imp) [A]_JAM72S01-360/PR                              9.24\n",
              "Module Efficiency [%]_JAM72S01-340/PR                                       17.50\n",
              "Module Efficiency [%]_JAM72S01-435/PR                                       17.76\n",
              "Module Efficiency [%]_JAM72S01-350/PR                                       18.02\n",
              "Module Efficiency [%]_JAM72S01-355/PR                                       18.28\n",
              "Module Efficiency [%]_JAM72S01-360/PR                                       18.53\n",
              "Power Tolerance                                                      (-0 sim+5 W)\n",
              "Temperature Coefficient of Isc (a_ Isc)          (+0.060 % /{ }^{circ} mathrm{C})\n",
              "Temperature Coefficient of Voc ( (beta _)Voc)    (-0.300 % /{ }^{circ} mathrm{C})\n",
              "Temperature Coefficient of Pmax (y_Pmp)          (-0.390 % /{ }^{circ} mathrm{C})"
            ],
            "text/html": [
              "\n",
              "  <div id=\"df-202e46a1-412b-4a34-8396-3ba849653f53\" class=\"colab-df-container\">\n",
              "    <div>\n",
              "<style scoped>\n",
              "    .dataframe tbody tr th:only-of-type {\n",
              "        vertical-align: middle;\n",
              "    }\n",
              "\n",
              "    .dataframe tbody tr th {\n",
              "        vertical-align: top;\n",
              "    }\n",
              "\n",
              "    .dataframe thead th {\n",
              "        text-align: right;\n",
              "    }\n",
              "</style>\n",
              "<table border=\"1\" class=\"dataframe\">\n",
              "  <thead>\n",
              "    <tr style=\"text-align: right;\">\n",
              "      <th></th>\n",
              "      <th>0</th>\n",
              "    </tr>\n",
              "  </thead>\n",
              "  <tbody>\n",
              "    <tr>\n",
              "      <th>Rated Maximum Power (Pmax) [W]_JAM72S01-340/PR</th>\n",
              "      <td>340</td>\n",
              "    </tr>\n",
              "    <tr>\n",
              "      <th>Rated Maximum Power (Pmax) [W]_JAM72S01-435/PR</th>\n",
              "      <td>345</td>\n",
              "    </tr>\n",
              "    <tr>\n",
              "      <th>Rated Maximum Power (Pmax) [W]_JAM72S01-350/PR</th>\n",
              "      <td>350</td>\n",
              "    </tr>\n",
              "    <tr>\n",
              "      <th>Rated Maximum Power (Pmax) [W]_JAM72S01-355/PR</th>\n",
              "      <td>355</td>\n",
              "    </tr>\n",
              "    <tr>\n",
              "      <th>Rated Maximum Power (Pmax) [W]_JAM72S01-360/PR</th>\n",
              "      <td>360</td>\n",
              "    </tr>\n",
              "    <tr>\n",
              "      <th>Open Circuit Voltage (Voc) [V]_JAM72S01-340/PR</th>\n",
              "      <td>46.86</td>\n",
              "    </tr>\n",
              "    <tr>\n",
              "      <th>Open Circuit Voltage (Voc) [V]_JAM72S01-435/PR</th>\n",
              "      <td>47.05</td>\n",
              "    </tr>\n",
              "    <tr>\n",
              "      <th>Open Circuit Voltage (Voc) [V]_JAM72S01-350/PR</th>\n",
              "      <td>47.24</td>\n",
              "    </tr>\n",
              "    <tr>\n",
              "      <th>Open Circuit Voltage (Voc) [V]_JAM72S01-355/PR</th>\n",
              "      <td>47.45</td>\n",
              "    </tr>\n",
              "    <tr>\n",
              "      <th>Open Circuit Voltage (Voc) [V]_JAM72S01-360/PR</th>\n",
              "      <td>47.66</td>\n",
              "    </tr>\n",
              "    <tr>\n",
              "      <th>Maximum Power Voltage (Vmp) [V]_JAM72S01-340/PR</th>\n",
              "      <td>38.18</td>\n",
              "    </tr>\n",
              "    <tr>\n",
              "      <th>Maximum Power Voltage (Vmp) [V]_JAM72S01-435/PR</th>\n",
              "      <td>38.39</td>\n",
              "    </tr>\n",
              "    <tr>\n",
              "      <th>Maximum Power Voltage (Vmp) [V]_JAM72S01-350/PR</th>\n",
              "      <td>38.58</td>\n",
              "    </tr>\n",
              "    <tr>\n",
              "      <th>Maximum Power Voltage (Vmp) [V]_JAM72S01-355/PR</th>\n",
              "      <td>38.76</td>\n",
              "    </tr>\n",
              "    <tr>\n",
              "      <th>Maximum Power Voltage (Vmp) [V]_JAM72S01-360/PR</th>\n",
              "      <td>38.96</td>\n",
              "    </tr>\n",
              "    <tr>\n",
              "      <th>Short Circuit Current (Isc) [A]_JAM72S01-340/PR</th>\n",
              "      <td>9.46</td>\n",
              "    </tr>\n",
              "    <tr>\n",
              "      <th>Short Circuit Current (Isc) [A]_JAM72S01-435/PR</th>\n",
              "      <td>9.54</td>\n",
              "    </tr>\n",
              "    <tr>\n",
              "      <th>Short Circuit Current (Isc) [A]_JAM72S01-350/PR</th>\n",
              "      <td>9.61</td>\n",
              "    </tr>\n",
              "    <tr>\n",
              "      <th>Short Circuit Current (Isc) [A]_JAM72S01-355/PR</th>\n",
              "      <td>9.69</td>\n",
              "    </tr>\n",
              "    <tr>\n",
              "      <th>Short Circuit Current (Isc) [A]_JAM72S01-360/PR</th>\n",
              "      <td>9.78</td>\n",
              "    </tr>\n",
              "    <tr>\n",
              "      <th>Maximum Power Current (Imp) [A]_JAM72S01-340/PR</th>\n",
              "      <td>8.91</td>\n",
              "    </tr>\n",
              "    <tr>\n",
              "      <th>Maximum Power Current (Imp) [A]_JAM72S01-435/PR</th>\n",
              "      <td>8.99</td>\n",
              "    </tr>\n",
              "    <tr>\n",
              "      <th>Maximum Power Current (Imp) [A]_JAM72S01-350/PR</th>\n",
              "      <td>9.07</td>\n",
              "    </tr>\n",
              "    <tr>\n",
              "      <th>Maximum Power Current (Imp) [A]_JAM72S01-355/PR</th>\n",
              "      <td>9.16</td>\n",
              "    </tr>\n",
              "    <tr>\n",
              "      <th>Maximum Power Current (Imp) [A]_JAM72S01-360/PR</th>\n",
              "      <td>9.24</td>\n",
              "    </tr>\n",
              "    <tr>\n",
              "      <th>Module Efficiency [%]_JAM72S01-340/PR</th>\n",
              "      <td>17.50</td>\n",
              "    </tr>\n",
              "    <tr>\n",
              "      <th>Module Efficiency [%]_JAM72S01-435/PR</th>\n",
              "      <td>17.76</td>\n",
              "    </tr>\n",
              "    <tr>\n",
              "      <th>Module Efficiency [%]_JAM72S01-350/PR</th>\n",
              "      <td>18.02</td>\n",
              "    </tr>\n",
              "    <tr>\n",
              "      <th>Module Efficiency [%]_JAM72S01-355/PR</th>\n",
              "      <td>18.28</td>\n",
              "    </tr>\n",
              "    <tr>\n",
              "      <th>Module Efficiency [%]_JAM72S01-360/PR</th>\n",
              "      <td>18.53</td>\n",
              "    </tr>\n",
              "    <tr>\n",
              "      <th>Power Tolerance</th>\n",
              "      <td>(-0 sim+5 W)</td>\n",
              "    </tr>\n",
              "    <tr>\n",
              "      <th>Temperature Coefficient of Isc (a_ Isc)</th>\n",
              "      <td>(+0.060 % /{ }^{circ} mathrm{C})</td>\n",
              "    </tr>\n",
              "    <tr>\n",
              "      <th>Temperature Coefficient of Voc ( (beta _)Voc)</th>\n",
              "      <td>(-0.300 % /{ }^{circ} mathrm{C})</td>\n",
              "    </tr>\n",
              "    <tr>\n",
              "      <th>Temperature Coefficient of Pmax (y_Pmp)</th>\n",
              "      <td>(-0.390 % /{ }^{circ} mathrm{C})</td>\n",
              "    </tr>\n",
              "  </tbody>\n",
              "</table>\n",
              "</div>\n",
              "    <div class=\"colab-df-buttons\">\n",
              "\n",
              "  <div class=\"colab-df-container\">\n",
              "    <button class=\"colab-df-convert\" onclick=\"convertToInteractive('df-202e46a1-412b-4a34-8396-3ba849653f53')\"\n",
              "            title=\"Convert this dataframe to an interactive table.\"\n",
              "            style=\"display:none;\">\n",
              "\n",
              "  <svg xmlns=\"http://www.w3.org/2000/svg\" height=\"24px\" viewBox=\"0 -960 960 960\">\n",
              "    <path d=\"M120-120v-720h720v720H120Zm60-500h600v-160H180v160Zm220 220h160v-160H400v160Zm0 220h160v-160H400v160ZM180-400h160v-160H180v160Zm440 0h160v-160H620v160ZM180-180h160v-160H180v160Zm440 0h160v-160H620v160Z\"/>\n",
              "  </svg>\n",
              "    </button>\n",
              "\n",
              "  <style>\n",
              "    .colab-df-container {\n",
              "      display:flex;\n",
              "      gap: 12px;\n",
              "    }\n",
              "\n",
              "    .colab-df-convert {\n",
              "      background-color: #E8F0FE;\n",
              "      border: none;\n",
              "      border-radius: 50%;\n",
              "      cursor: pointer;\n",
              "      display: none;\n",
              "      fill: #1967D2;\n",
              "      height: 32px;\n",
              "      padding: 0 0 0 0;\n",
              "      width: 32px;\n",
              "    }\n",
              "\n",
              "    .colab-df-convert:hover {\n",
              "      background-color: #E2EBFA;\n",
              "      box-shadow: 0px 1px 2px rgba(60, 64, 67, 0.3), 0px 1px 3px 1px rgba(60, 64, 67, 0.15);\n",
              "      fill: #174EA6;\n",
              "    }\n",
              "\n",
              "    .colab-df-buttons div {\n",
              "      margin-bottom: 4px;\n",
              "    }\n",
              "\n",
              "    [theme=dark] .colab-df-convert {\n",
              "      background-color: #3B4455;\n",
              "      fill: #D2E3FC;\n",
              "    }\n",
              "\n",
              "    [theme=dark] .colab-df-convert:hover {\n",
              "      background-color: #434B5C;\n",
              "      box-shadow: 0px 1px 3px 1px rgba(0, 0, 0, 0.15);\n",
              "      filter: drop-shadow(0px 1px 2px rgba(0, 0, 0, 0.3));\n",
              "      fill: #FFFFFF;\n",
              "    }\n",
              "  </style>\n",
              "\n",
              "    <script>\n",
              "      const buttonEl =\n",
              "        document.querySelector('#df-202e46a1-412b-4a34-8396-3ba849653f53 button.colab-df-convert');\n",
              "      buttonEl.style.display =\n",
              "        google.colab.kernel.accessAllowed ? 'block' : 'none';\n",
              "\n",
              "      async function convertToInteractive(key) {\n",
              "        const element = document.querySelector('#df-202e46a1-412b-4a34-8396-3ba849653f53');\n",
              "        const dataTable =\n",
              "          await google.colab.kernel.invokeFunction('convertToInteractive',\n",
              "                                                    [key], {});\n",
              "        if (!dataTable) return;\n",
              "\n",
              "        const docLinkHtml = 'Like what you see? Visit the ' +\n",
              "          '<a target=\"_blank\" href=https://colab.research.google.com/notebooks/data_table.ipynb>data table notebook</a>'\n",
              "          + ' to learn more about interactive tables.';\n",
              "        element.innerHTML = '';\n",
              "        dataTable['output_type'] = 'display_data';\n",
              "        await google.colab.output.renderOutput(dataTable, element);\n",
              "        const docLink = document.createElement('div');\n",
              "        docLink.innerHTML = docLinkHtml;\n",
              "        element.appendChild(docLink);\n",
              "      }\n",
              "    </script>\n",
              "  </div>\n",
              "\n",
              "\n",
              "<div id=\"df-d4e45ecd-6f60-47d1-8aa9-1c3aa2523827\">\n",
              "  <button class=\"colab-df-quickchart\" onclick=\"quickchart('df-d4e45ecd-6f60-47d1-8aa9-1c3aa2523827')\"\n",
              "            title=\"Suggest charts\"\n",
              "            style=\"display:none;\">\n",
              "\n",
              "<svg xmlns=\"http://www.w3.org/2000/svg\" height=\"24px\"viewBox=\"0 0 24 24\"\n",
              "     width=\"24px\">\n",
              "    <g>\n",
              "        <path d=\"M19 3H5c-1.1 0-2 .9-2 2v14c0 1.1.9 2 2 2h14c1.1 0 2-.9 2-2V5c0-1.1-.9-2-2-2zM9 17H7v-7h2v7zm4 0h-2V7h2v10zm4 0h-2v-4h2v4z\"/>\n",
              "    </g>\n",
              "</svg>\n",
              "  </button>\n",
              "\n",
              "<style>\n",
              "  .colab-df-quickchart {\n",
              "      --bg-color: #E8F0FE;\n",
              "      --fill-color: #1967D2;\n",
              "      --hover-bg-color: #E2EBFA;\n",
              "      --hover-fill-color: #174EA6;\n",
              "      --disabled-fill-color: #AAA;\n",
              "      --disabled-bg-color: #DDD;\n",
              "  }\n",
              "\n",
              "  [theme=dark] .colab-df-quickchart {\n",
              "      --bg-color: #3B4455;\n",
              "      --fill-color: #D2E3FC;\n",
              "      --hover-bg-color: #434B5C;\n",
              "      --hover-fill-color: #FFFFFF;\n",
              "      --disabled-bg-color: #3B4455;\n",
              "      --disabled-fill-color: #666;\n",
              "  }\n",
              "\n",
              "  .colab-df-quickchart {\n",
              "    background-color: var(--bg-color);\n",
              "    border: none;\n",
              "    border-radius: 50%;\n",
              "    cursor: pointer;\n",
              "    display: none;\n",
              "    fill: var(--fill-color);\n",
              "    height: 32px;\n",
              "    padding: 0;\n",
              "    width: 32px;\n",
              "  }\n",
              "\n",
              "  .colab-df-quickchart:hover {\n",
              "    background-color: var(--hover-bg-color);\n",
              "    box-shadow: 0 1px 2px rgba(60, 64, 67, 0.3), 0 1px 3px 1px rgba(60, 64, 67, 0.15);\n",
              "    fill: var(--button-hover-fill-color);\n",
              "  }\n",
              "\n",
              "  .colab-df-quickchart-complete:disabled,\n",
              "  .colab-df-quickchart-complete:disabled:hover {\n",
              "    background-color: var(--disabled-bg-color);\n",
              "    fill: var(--disabled-fill-color);\n",
              "    box-shadow: none;\n",
              "  }\n",
              "\n",
              "  .colab-df-spinner {\n",
              "    border: 2px solid var(--fill-color);\n",
              "    border-color: transparent;\n",
              "    border-bottom-color: var(--fill-color);\n",
              "    animation:\n",
              "      spin 1s steps(1) infinite;\n",
              "  }\n",
              "\n",
              "  @keyframes spin {\n",
              "    0% {\n",
              "      border-color: transparent;\n",
              "      border-bottom-color: var(--fill-color);\n",
              "      border-left-color: var(--fill-color);\n",
              "    }\n",
              "    20% {\n",
              "      border-color: transparent;\n",
              "      border-left-color: var(--fill-color);\n",
              "      border-top-color: var(--fill-color);\n",
              "    }\n",
              "    30% {\n",
              "      border-color: transparent;\n",
              "      border-left-color: var(--fill-color);\n",
              "      border-top-color: var(--fill-color);\n",
              "      border-right-color: var(--fill-color);\n",
              "    }\n",
              "    40% {\n",
              "      border-color: transparent;\n",
              "      border-right-color: var(--fill-color);\n",
              "      border-top-color: var(--fill-color);\n",
              "    }\n",
              "    60% {\n",
              "      border-color: transparent;\n",
              "      border-right-color: var(--fill-color);\n",
              "    }\n",
              "    80% {\n",
              "      border-color: transparent;\n",
              "      border-right-color: var(--fill-color);\n",
              "      border-bottom-color: var(--fill-color);\n",
              "    }\n",
              "    90% {\n",
              "      border-color: transparent;\n",
              "      border-bottom-color: var(--fill-color);\n",
              "    }\n",
              "  }\n",
              "</style>\n",
              "\n",
              "  <script>\n",
              "    async function quickchart(key) {\n",
              "      const quickchartButtonEl =\n",
              "        document.querySelector('#' + key + ' button');\n",
              "      quickchartButtonEl.disabled = true;  // To prevent multiple clicks.\n",
              "      quickchartButtonEl.classList.add('colab-df-spinner');\n",
              "      try {\n",
              "        const charts = await google.colab.kernel.invokeFunction(\n",
              "            'suggestCharts', [key], {});\n",
              "      } catch (error) {\n",
              "        console.error('Error during call to suggestCharts:', error);\n",
              "      }\n",
              "      quickchartButtonEl.classList.remove('colab-df-spinner');\n",
              "      quickchartButtonEl.classList.add('colab-df-quickchart-complete');\n",
              "    }\n",
              "    (() => {\n",
              "      let quickchartButtonEl =\n",
              "        document.querySelector('#df-d4e45ecd-6f60-47d1-8aa9-1c3aa2523827 button');\n",
              "      quickchartButtonEl.style.display =\n",
              "        google.colab.kernel.accessAllowed ? 'block' : 'none';\n",
              "    })();\n",
              "  </script>\n",
              "</div>\n",
              "    </div>\n",
              "  </div>\n"
            ],
            "application/vnd.google.colaboratory.intrinsic+json": {
              "type": "dataframe",
              "summary": "{\n  \"name\": \"create_dataframe_from_dict(stc(r))\",\n  \"rows\": 34,\n  \"fields\": [\n    {\n      \"column\": 0,\n      \"properties\": {\n        \"dtype\": \"string\",\n        \"num_unique_values\": 34,\n        \"samples\": [\n          \"9.46\",\n          \"9.78\",\n          \"18.02\"\n        ],\n        \"semantic_type\": \"\",\n        \"description\": \"\"\n      }\n    }\n  ]\n}"
            }
          },
          "metadata": {},
          "execution_count": 118
        }
      ]
    },
    {
      "cell_type": "code",
      "source": [
        "r3.remove(\"STC\")\n",
        "t_down=[i for i in r3[r3.index(\"Power Tolerance\"):]  if len(i)>2]\n",
        "\n",
        "key=[]\n",
        "value=[]\n",
        "for i in range(len(t_down)):\n",
        "    if i%2==0:\n",
        "        key.append(t_down[i])\n",
        "    else:\n",
        "        value.append(t_down[i])\n",
        "{k:v for k,v in zip(key,value)}"
      ],
      "metadata": {
        "colab": {
          "base_uri": "https://localhost:8080/"
        },
        "id": "KyP6ux_0P59d",
        "outputId": "80f0fb5c-3360-4f3d-b289-d51b560d3aea"
      },
      "execution_count": null,
      "outputs": [
        {
          "output_type": "execute_result",
          "data": {
            "text/plain": [
              "['Power Tolerance',\n",
              " '(-0 sim+5 W)',\n",
              " 'Temperature Coefficient of Isc (a_ Isc)',\n",
              " '(+0.060 % /{ }^{circ} mathrm{C})',\n",
              " 'Temperature Coefficient of Voc ( (beta _)Voc)',\n",
              " '(-0.300 % /{ }^{circ} mathrm{C})',\n",
              " 'Temperature Coefficient of Pmax (y_Pmp)',\n",
              " '(-0.390 % /{ }^{circ} mathrm{C})']"
            ]
          },
          "metadata": {},
          "execution_count": 94
        }
      ]
    },
    {
      "cell_type": "code",
      "source": [
        "key=[]\n",
        "value=[]\n",
        "for i in range(len(t_down)):\n",
        "    if i%2==0:\n",
        "        key.append(t_down[i])\n",
        "    else:\n",
        "        value.append(t_down[i])\n",
        "{k:v for k,v in zip(key,value)}"
      ],
      "metadata": {
        "colab": {
          "base_uri": "https://localhost:8080/"
        },
        "id": "O-AmezzaSAGM",
        "outputId": "3a5cc948-495e-4edb-80e3-75a1a81db890"
      },
      "execution_count": null,
      "outputs": [
        {
          "output_type": "execute_result",
          "data": {
            "text/plain": [
              "{'Power Tolerance': '(-0 sim+5 W)',\n",
              " 'Temperature Coefficient of Isc (a_ Isc)': '(+0.060 % /{ }^{circ} mathrm{C})',\n",
              " 'Temperature Coefficient of Voc ( (beta _)Voc)': '(-0.300 % /{ }^{circ} mathrm{C})',\n",
              " 'Temperature Coefficient of Pmax (y_Pmp)': '(-0.390 % /{ }^{circ} mathrm{C})'}"
            ]
          },
          "metadata": {},
          "execution_count": 95
        }
      ]
    },
    {
      "cell_type": "code",
      "source": [],
      "metadata": {
        "id": "VycSHpv0UJ77"
      },
      "execution_count": null,
      "outputs": []
    }
  ],
  "metadata": {
    "colab": {
      "provenance": [],
      "authorship_tag": "ABX9TyNpB7B0XCoJ3XPV1wsxLnrw",
      "include_colab_link": true
    },
    "kernelspec": {
      "display_name": "Python 3",
      "name": "python3"
    },
    "language_info": {
      "name": "python"
    },
    "widgets": {
      "application/vnd.jupyter.widget-state+json": {
        "d021888f6b674eefacf8ebeb56318868": {
          "model_module": "@jupyter-widgets/controls",
          "model_name": "HBoxModel",
          "model_module_version": "1.5.0",
          "state": {
            "_dom_classes": [],
            "_model_module": "@jupyter-widgets/controls",
            "_model_module_version": "1.5.0",
            "_model_name": "HBoxModel",
            "_view_count": null,
            "_view_module": "@jupyter-widgets/controls",
            "_view_module_version": "1.5.0",
            "_view_name": "HBoxView",
            "box_style": "",
            "children": [
              "IPY_MODEL_2996ccb8aa7b4a47a26cd7b689f97fbb",
              "IPY_MODEL_2c5e07fdd021476ebde6f30fd64acd5b",
              "IPY_MODEL_0ee4862181cf4bcd88562beae03bad7c"
            ],
            "layout": "IPY_MODEL_b828a818cf454b94b092a67c1be12c5f"
          }
        },
        "2996ccb8aa7b4a47a26cd7b689f97fbb": {
          "model_module": "@jupyter-widgets/controls",
          "model_name": "HTMLModel",
          "model_module_version": "1.5.0",
          "state": {
            "_dom_classes": [],
            "_model_module": "@jupyter-widgets/controls",
            "_model_module_version": "1.5.0",
            "_model_name": "HTMLModel",
            "_view_count": null,
            "_view_module": "@jupyter-widgets/controls",
            "_view_module_version": "1.5.0",
            "_view_name": "HTMLView",
            "description": "",
            "description_tooltip": null,
            "layout": "IPY_MODEL_6d945c6bce874a799a363a951e122ec6",
            "placeholder": "​",
            "style": "IPY_MODEL_169379ab805d42f2a9464c108291e660",
            "value": "render_tools.py: 100%"
          }
        },
        "2c5e07fdd021476ebde6f30fd64acd5b": {
          "model_module": "@jupyter-widgets/controls",
          "model_name": "FloatProgressModel",
          "model_module_version": "1.5.0",
          "state": {
            "_dom_classes": [],
            "_model_module": "@jupyter-widgets/controls",
            "_model_module_version": "1.5.0",
            "_model_name": "FloatProgressModel",
            "_view_count": null,
            "_view_module": "@jupyter-widgets/controls",
            "_view_module_version": "1.5.0",
            "_view_name": "ProgressView",
            "bar_style": "success",
            "description": "",
            "description_tooltip": null,
            "layout": "IPY_MODEL_d0ecd201d84548aea6fd48f2f8bf4a9f",
            "max": 1992,
            "min": 0,
            "orientation": "horizontal",
            "style": "IPY_MODEL_25f3c6e020a840f19c07fa10e05e51bd",
            "value": 1992
          }
        },
        "0ee4862181cf4bcd88562beae03bad7c": {
          "model_module": "@jupyter-widgets/controls",
          "model_name": "HTMLModel",
          "model_module_version": "1.5.0",
          "state": {
            "_dom_classes": [],
            "_model_module": "@jupyter-widgets/controls",
            "_model_module_version": "1.5.0",
            "_model_name": "HTMLModel",
            "_view_count": null,
            "_view_module": "@jupyter-widgets/controls",
            "_view_module_version": "1.5.0",
            "_view_name": "HTMLView",
            "description": "",
            "description_tooltip": null,
            "layout": "IPY_MODEL_5a57a8d0397d42d08731c8cb9c55eae4",
            "placeholder": "​",
            "style": "IPY_MODEL_ff1c38a8f3e24d9d9ca948e198f9f589",
            "value": " 1.99k/1.99k [00:00&lt;00:00, 134kB/s]"
          }
        },
        "b828a818cf454b94b092a67c1be12c5f": {
          "model_module": "@jupyter-widgets/base",
          "model_name": "LayoutModel",
          "model_module_version": "1.2.0",
          "state": {
            "_model_module": "@jupyter-widgets/base",
            "_model_module_version": "1.2.0",
            "_model_name": "LayoutModel",
            "_view_count": null,
            "_view_module": "@jupyter-widgets/base",
            "_view_module_version": "1.2.0",
            "_view_name": "LayoutView",
            "align_content": null,
            "align_items": null,
            "align_self": null,
            "border": null,
            "bottom": null,
            "display": null,
            "flex": null,
            "flex_flow": null,
            "grid_area": null,
            "grid_auto_columns": null,
            "grid_auto_flow": null,
            "grid_auto_rows": null,
            "grid_column": null,
            "grid_gap": null,
            "grid_row": null,
            "grid_template_areas": null,
            "grid_template_columns": null,
            "grid_template_rows": null,
            "height": null,
            "justify_content": null,
            "justify_items": null,
            "left": null,
            "margin": null,
            "max_height": null,
            "max_width": null,
            "min_height": null,
            "min_width": null,
            "object_fit": null,
            "object_position": null,
            "order": null,
            "overflow": null,
            "overflow_x": null,
            "overflow_y": null,
            "padding": null,
            "right": null,
            "top": null,
            "visibility": null,
            "width": null
          }
        },
        "6d945c6bce874a799a363a951e122ec6": {
          "model_module": "@jupyter-widgets/base",
          "model_name": "LayoutModel",
          "model_module_version": "1.2.0",
          "state": {
            "_model_module": "@jupyter-widgets/base",
            "_model_module_version": "1.2.0",
            "_model_name": "LayoutModel",
            "_view_count": null,
            "_view_module": "@jupyter-widgets/base",
            "_view_module_version": "1.2.0",
            "_view_name": "LayoutView",
            "align_content": null,
            "align_items": null,
            "align_self": null,
            "border": null,
            "bottom": null,
            "display": null,
            "flex": null,
            "flex_flow": null,
            "grid_area": null,
            "grid_auto_columns": null,
            "grid_auto_flow": null,
            "grid_auto_rows": null,
            "grid_column": null,
            "grid_gap": null,
            "grid_row": null,
            "grid_template_areas": null,
            "grid_template_columns": null,
            "grid_template_rows": null,
            "height": null,
            "justify_content": null,
            "justify_items": null,
            "left": null,
            "margin": null,
            "max_height": null,
            "max_width": null,
            "min_height": null,
            "min_width": null,
            "object_fit": null,
            "object_position": null,
            "order": null,
            "overflow": null,
            "overflow_x": null,
            "overflow_y": null,
            "padding": null,
            "right": null,
            "top": null,
            "visibility": null,
            "width": null
          }
        },
        "169379ab805d42f2a9464c108291e660": {
          "model_module": "@jupyter-widgets/controls",
          "model_name": "DescriptionStyleModel",
          "model_module_version": "1.5.0",
          "state": {
            "_model_module": "@jupyter-widgets/controls",
            "_model_module_version": "1.5.0",
            "_model_name": "DescriptionStyleModel",
            "_view_count": null,
            "_view_module": "@jupyter-widgets/base",
            "_view_module_version": "1.2.0",
            "_view_name": "StyleView",
            "description_width": ""
          }
        },
        "d0ecd201d84548aea6fd48f2f8bf4a9f": {
          "model_module": "@jupyter-widgets/base",
          "model_name": "LayoutModel",
          "model_module_version": "1.2.0",
          "state": {
            "_model_module": "@jupyter-widgets/base",
            "_model_module_version": "1.2.0",
            "_model_name": "LayoutModel",
            "_view_count": null,
            "_view_module": "@jupyter-widgets/base",
            "_view_module_version": "1.2.0",
            "_view_name": "LayoutView",
            "align_content": null,
            "align_items": null,
            "align_self": null,
            "border": null,
            "bottom": null,
            "display": null,
            "flex": null,
            "flex_flow": null,
            "grid_area": null,
            "grid_auto_columns": null,
            "grid_auto_flow": null,
            "grid_auto_rows": null,
            "grid_column": null,
            "grid_gap": null,
            "grid_row": null,
            "grid_template_areas": null,
            "grid_template_columns": null,
            "grid_template_rows": null,
            "height": null,
            "justify_content": null,
            "justify_items": null,
            "left": null,
            "margin": null,
            "max_height": null,
            "max_width": null,
            "min_height": null,
            "min_width": null,
            "object_fit": null,
            "object_position": null,
            "order": null,
            "overflow": null,
            "overflow_x": null,
            "overflow_y": null,
            "padding": null,
            "right": null,
            "top": null,
            "visibility": null,
            "width": null
          }
        },
        "25f3c6e020a840f19c07fa10e05e51bd": {
          "model_module": "@jupyter-widgets/controls",
          "model_name": "ProgressStyleModel",
          "model_module_version": "1.5.0",
          "state": {
            "_model_module": "@jupyter-widgets/controls",
            "_model_module_version": "1.5.0",
            "_model_name": "ProgressStyleModel",
            "_view_count": null,
            "_view_module": "@jupyter-widgets/base",
            "_view_module_version": "1.2.0",
            "_view_name": "StyleView",
            "bar_color": null,
            "description_width": ""
          }
        },
        "5a57a8d0397d42d08731c8cb9c55eae4": {
          "model_module": "@jupyter-widgets/base",
          "model_name": "LayoutModel",
          "model_module_version": "1.2.0",
          "state": {
            "_model_module": "@jupyter-widgets/base",
            "_model_module_version": "1.2.0",
            "_model_name": "LayoutModel",
            "_view_count": null,
            "_view_module": "@jupyter-widgets/base",
            "_view_module_version": "1.2.0",
            "_view_name": "LayoutView",
            "align_content": null,
            "align_items": null,
            "align_self": null,
            "border": null,
            "bottom": null,
            "display": null,
            "flex": null,
            "flex_flow": null,
            "grid_area": null,
            "grid_auto_columns": null,
            "grid_auto_flow": null,
            "grid_auto_rows": null,
            "grid_column": null,
            "grid_gap": null,
            "grid_row": null,
            "grid_template_areas": null,
            "grid_template_columns": null,
            "grid_template_rows": null,
            "height": null,
            "justify_content": null,
            "justify_items": null,
            "left": null,
            "margin": null,
            "max_height": null,
            "max_width": null,
            "min_height": null,
            "min_width": null,
            "object_fit": null,
            "object_position": null,
            "order": null,
            "overflow": null,
            "overflow_x": null,
            "overflow_y": null,
            "padding": null,
            "right": null,
            "top": null,
            "visibility": null,
            "width": null
          }
        },
        "ff1c38a8f3e24d9d9ca948e198f9f589": {
          "model_module": "@jupyter-widgets/controls",
          "model_name": "DescriptionStyleModel",
          "model_module_version": "1.5.0",
          "state": {
            "_model_module": "@jupyter-widgets/controls",
            "_model_module_version": "1.5.0",
            "_model_name": "DescriptionStyleModel",
            "_view_count": null,
            "_view_module": "@jupyter-widgets/base",
            "_view_module_version": "1.2.0",
            "_view_name": "StyleView",
            "description_width": ""
          }
        },
        "5f0c386eb0824e96b64fd7d305ed86b8": {
          "model_module": "@jupyter-widgets/controls",
          "model_name": "HBoxModel",
          "model_module_version": "1.5.0",
          "state": {
            "_dom_classes": [],
            "_model_module": "@jupyter-widgets/controls",
            "_model_module_version": "1.5.0",
            "_model_name": "HBoxModel",
            "_view_count": null,
            "_view_module": "@jupyter-widgets/controls",
            "_view_module_version": "1.5.0",
            "_view_name": "HBoxView",
            "box_style": "",
            "children": [
              "IPY_MODEL_54437a367e7b4274a0e6a3d01741da25",
              "IPY_MODEL_1e9ccd38b3cf42d78e586f3114a91ec6",
              "IPY_MODEL_47c43ed757df4b9e8fd9707e6b3d4bf5"
            ],
            "layout": "IPY_MODEL_0c27998cd21e484bb7c0f81912eaa3a0"
          }
        },
        "54437a367e7b4274a0e6a3d01741da25": {
          "model_module": "@jupyter-widgets/controls",
          "model_name": "HTMLModel",
          "model_module_version": "1.5.0",
          "state": {
            "_dom_classes": [],
            "_model_module": "@jupyter-widgets/controls",
            "_model_module_version": "1.5.0",
            "_model_name": "HTMLModel",
            "_view_count": null,
            "_view_module": "@jupyter-widgets/controls",
            "_view_module_version": "1.5.0",
            "_view_name": "HTMLView",
            "description": "",
            "description_tooltip": null,
            "layout": "IPY_MODEL_436aa486ccec47808c4491786c684f13",
            "placeholder": "​",
            "style": "IPY_MODEL_b7bc9604b3de4ae6b6d88f3f6d79f86f",
            "value": "got_vision_b.py: 100%"
          }
        },
        "1e9ccd38b3cf42d78e586f3114a91ec6": {
          "model_module": "@jupyter-widgets/controls",
          "model_name": "FloatProgressModel",
          "model_module_version": "1.5.0",
          "state": {
            "_dom_classes": [],
            "_model_module": "@jupyter-widgets/controls",
            "_model_module_version": "1.5.0",
            "_model_name": "FloatProgressModel",
            "_view_count": null,
            "_view_module": "@jupyter-widgets/controls",
            "_view_module_version": "1.5.0",
            "_view_name": "ProgressView",
            "bar_style": "success",
            "description": "",
            "description_tooltip": null,
            "layout": "IPY_MODEL_81075a6cd5aa4b75bc5bc748b6c44089",
            "max": 16106,
            "min": 0,
            "orientation": "horizontal",
            "style": "IPY_MODEL_1d0755b168504147ae4c223f3fc2ab8f",
            "value": 16106
          }
        },
        "47c43ed757df4b9e8fd9707e6b3d4bf5": {
          "model_module": "@jupyter-widgets/controls",
          "model_name": "HTMLModel",
          "model_module_version": "1.5.0",
          "state": {
            "_dom_classes": [],
            "_model_module": "@jupyter-widgets/controls",
            "_model_module_version": "1.5.0",
            "_model_name": "HTMLModel",
            "_view_count": null,
            "_view_module": "@jupyter-widgets/controls",
            "_view_module_version": "1.5.0",
            "_view_name": "HTMLView",
            "description": "",
            "description_tooltip": null,
            "layout": "IPY_MODEL_12f33214923a4f99a281f4368ed16dbd",
            "placeholder": "​",
            "style": "IPY_MODEL_e24d3c6f5a594ffda04c3a40aceeabec",
            "value": " 16.1k/16.1k [00:00&lt;00:00, 1.21MB/s]"
          }
        },
        "0c27998cd21e484bb7c0f81912eaa3a0": {
          "model_module": "@jupyter-widgets/base",
          "model_name": "LayoutModel",
          "model_module_version": "1.2.0",
          "state": {
            "_model_module": "@jupyter-widgets/base",
            "_model_module_version": "1.2.0",
            "_model_name": "LayoutModel",
            "_view_count": null,
            "_view_module": "@jupyter-widgets/base",
            "_view_module_version": "1.2.0",
            "_view_name": "LayoutView",
            "align_content": null,
            "align_items": null,
            "align_self": null,
            "border": null,
            "bottom": null,
            "display": null,
            "flex": null,
            "flex_flow": null,
            "grid_area": null,
            "grid_auto_columns": null,
            "grid_auto_flow": null,
            "grid_auto_rows": null,
            "grid_column": null,
            "grid_gap": null,
            "grid_row": null,
            "grid_template_areas": null,
            "grid_template_columns": null,
            "grid_template_rows": null,
            "height": null,
            "justify_content": null,
            "justify_items": null,
            "left": null,
            "margin": null,
            "max_height": null,
            "max_width": null,
            "min_height": null,
            "min_width": null,
            "object_fit": null,
            "object_position": null,
            "order": null,
            "overflow": null,
            "overflow_x": null,
            "overflow_y": null,
            "padding": null,
            "right": null,
            "top": null,
            "visibility": null,
            "width": null
          }
        },
        "436aa486ccec47808c4491786c684f13": {
          "model_module": "@jupyter-widgets/base",
          "model_name": "LayoutModel",
          "model_module_version": "1.2.0",
          "state": {
            "_model_module": "@jupyter-widgets/base",
            "_model_module_version": "1.2.0",
            "_model_name": "LayoutModel",
            "_view_count": null,
            "_view_module": "@jupyter-widgets/base",
            "_view_module_version": "1.2.0",
            "_view_name": "LayoutView",
            "align_content": null,
            "align_items": null,
            "align_self": null,
            "border": null,
            "bottom": null,
            "display": null,
            "flex": null,
            "flex_flow": null,
            "grid_area": null,
            "grid_auto_columns": null,
            "grid_auto_flow": null,
            "grid_auto_rows": null,
            "grid_column": null,
            "grid_gap": null,
            "grid_row": null,
            "grid_template_areas": null,
            "grid_template_columns": null,
            "grid_template_rows": null,
            "height": null,
            "justify_content": null,
            "justify_items": null,
            "left": null,
            "margin": null,
            "max_height": null,
            "max_width": null,
            "min_height": null,
            "min_width": null,
            "object_fit": null,
            "object_position": null,
            "order": null,
            "overflow": null,
            "overflow_x": null,
            "overflow_y": null,
            "padding": null,
            "right": null,
            "top": null,
            "visibility": null,
            "width": null
          }
        },
        "b7bc9604b3de4ae6b6d88f3f6d79f86f": {
          "model_module": "@jupyter-widgets/controls",
          "model_name": "DescriptionStyleModel",
          "model_module_version": "1.5.0",
          "state": {
            "_model_module": "@jupyter-widgets/controls",
            "_model_module_version": "1.5.0",
            "_model_name": "DescriptionStyleModel",
            "_view_count": null,
            "_view_module": "@jupyter-widgets/base",
            "_view_module_version": "1.2.0",
            "_view_name": "StyleView",
            "description_width": ""
          }
        },
        "81075a6cd5aa4b75bc5bc748b6c44089": {
          "model_module": "@jupyter-widgets/base",
          "model_name": "LayoutModel",
          "model_module_version": "1.2.0",
          "state": {
            "_model_module": "@jupyter-widgets/base",
            "_model_module_version": "1.2.0",
            "_model_name": "LayoutModel",
            "_view_count": null,
            "_view_module": "@jupyter-widgets/base",
            "_view_module_version": "1.2.0",
            "_view_name": "LayoutView",
            "align_content": null,
            "align_items": null,
            "align_self": null,
            "border": null,
            "bottom": null,
            "display": null,
            "flex": null,
            "flex_flow": null,
            "grid_area": null,
            "grid_auto_columns": null,
            "grid_auto_flow": null,
            "grid_auto_rows": null,
            "grid_column": null,
            "grid_gap": null,
            "grid_row": null,
            "grid_template_areas": null,
            "grid_template_columns": null,
            "grid_template_rows": null,
            "height": null,
            "justify_content": null,
            "justify_items": null,
            "left": null,
            "margin": null,
            "max_height": null,
            "max_width": null,
            "min_height": null,
            "min_width": null,
            "object_fit": null,
            "object_position": null,
            "order": null,
            "overflow": null,
            "overflow_x": null,
            "overflow_y": null,
            "padding": null,
            "right": null,
            "top": null,
            "visibility": null,
            "width": null
          }
        },
        "1d0755b168504147ae4c223f3fc2ab8f": {
          "model_module": "@jupyter-widgets/controls",
          "model_name": "ProgressStyleModel",
          "model_module_version": "1.5.0",
          "state": {
            "_model_module": "@jupyter-widgets/controls",
            "_model_module_version": "1.5.0",
            "_model_name": "ProgressStyleModel",
            "_view_count": null,
            "_view_module": "@jupyter-widgets/base",
            "_view_module_version": "1.2.0",
            "_view_name": "StyleView",
            "bar_color": null,
            "description_width": ""
          }
        },
        "12f33214923a4f99a281f4368ed16dbd": {
          "model_module": "@jupyter-widgets/base",
          "model_name": "LayoutModel",
          "model_module_version": "1.2.0",
          "state": {
            "_model_module": "@jupyter-widgets/base",
            "_model_module_version": "1.2.0",
            "_model_name": "LayoutModel",
            "_view_count": null,
            "_view_module": "@jupyter-widgets/base",
            "_view_module_version": "1.2.0",
            "_view_name": "LayoutView",
            "align_content": null,
            "align_items": null,
            "align_self": null,
            "border": null,
            "bottom": null,
            "display": null,
            "flex": null,
            "flex_flow": null,
            "grid_area": null,
            "grid_auto_columns": null,
            "grid_auto_flow": null,
            "grid_auto_rows": null,
            "grid_column": null,
            "grid_gap": null,
            "grid_row": null,
            "grid_template_areas": null,
            "grid_template_columns": null,
            "grid_template_rows": null,
            "height": null,
            "justify_content": null,
            "justify_items": null,
            "left": null,
            "margin": null,
            "max_height": null,
            "max_width": null,
            "min_height": null,
            "min_width": null,
            "object_fit": null,
            "object_position": null,
            "order": null,
            "overflow": null,
            "overflow_x": null,
            "overflow_y": null,
            "padding": null,
            "right": null,
            "top": null,
            "visibility": null,
            "width": null
          }
        },
        "e24d3c6f5a594ffda04c3a40aceeabec": {
          "model_module": "@jupyter-widgets/controls",
          "model_name": "DescriptionStyleModel",
          "model_module_version": "1.5.0",
          "state": {
            "_model_module": "@jupyter-widgets/controls",
            "_model_module_version": "1.5.0",
            "_model_name": "DescriptionStyleModel",
            "_view_count": null,
            "_view_module": "@jupyter-widgets/base",
            "_view_module_version": "1.2.0",
            "_view_name": "StyleView",
            "description_width": ""
          }
        },
        "34c12ae416784460ad9d0e5daf2be8b8": {
          "model_module": "@jupyter-widgets/controls",
          "model_name": "HBoxModel",
          "model_module_version": "1.5.0",
          "state": {
            "_dom_classes": [],
            "_model_module": "@jupyter-widgets/controls",
            "_model_module_version": "1.5.0",
            "_model_name": "HBoxModel",
            "_view_count": null,
            "_view_module": "@jupyter-widgets/controls",
            "_view_module_version": "1.5.0",
            "_view_name": "HBoxView",
            "box_style": "",
            "children": [
              "IPY_MODEL_756edd94522549eebf18b05e97c05fa2",
              "IPY_MODEL_d94aa8386fee443aaff57577790c6e76",
              "IPY_MODEL_7309ec9e1f6d48629e0313fd92f84246"
            ],
            "layout": "IPY_MODEL_10550af2d3664454b4955bf4670ea6e3"
          }
        },
        "756edd94522549eebf18b05e97c05fa2": {
          "model_module": "@jupyter-widgets/controls",
          "model_name": "HTMLModel",
          "model_module_version": "1.5.0",
          "state": {
            "_dom_classes": [],
            "_model_module": "@jupyter-widgets/controls",
            "_model_module_version": "1.5.0",
            "_model_name": "HTMLModel",
            "_view_count": null,
            "_view_module": "@jupyter-widgets/controls",
            "_view_module_version": "1.5.0",
            "_view_name": "HTMLView",
            "description": "",
            "description_tooltip": null,
            "layout": "IPY_MODEL_9adeb1bb33534dc2988a1646eb98f3d7",
            "placeholder": "​",
            "style": "IPY_MODEL_f6af5674714c46c081863937353a1e4f",
            "value": "model.safetensors: 100%"
          }
        },
        "d94aa8386fee443aaff57577790c6e76": {
          "model_module": "@jupyter-widgets/controls",
          "model_name": "FloatProgressModel",
          "model_module_version": "1.5.0",
          "state": {
            "_dom_classes": [],
            "_model_module": "@jupyter-widgets/controls",
            "_model_module_version": "1.5.0",
            "_model_name": "FloatProgressModel",
            "_view_count": null,
            "_view_module": "@jupyter-widgets/controls",
            "_view_module_version": "1.5.0",
            "_view_name": "ProgressView",
            "bar_style": "success",
            "description": "",
            "description_tooltip": null,
            "layout": "IPY_MODEL_4541830b59334bfdae0958e097b96779",
            "max": 1432121416,
            "min": 0,
            "orientation": "horizontal",
            "style": "IPY_MODEL_ee869d9caa504ab0a926c1044eb5e0cc",
            "value": 1432121416
          }
        },
        "7309ec9e1f6d48629e0313fd92f84246": {
          "model_module": "@jupyter-widgets/controls",
          "model_name": "HTMLModel",
          "model_module_version": "1.5.0",
          "state": {
            "_dom_classes": [],
            "_model_module": "@jupyter-widgets/controls",
            "_model_module_version": "1.5.0",
            "_model_name": "HTMLModel",
            "_view_count": null,
            "_view_module": "@jupyter-widgets/controls",
            "_view_module_version": "1.5.0",
            "_view_name": "HTMLView",
            "description": "",
            "description_tooltip": null,
            "layout": "IPY_MODEL_defc74d50c6246c48b01cbdfb97e86fe",
            "placeholder": "​",
            "style": "IPY_MODEL_def09b981e504c398f1251a81effe0e8",
            "value": " 1.43G/1.43G [00:33&lt;00:00, 42.1MB/s]"
          }
        },
        "10550af2d3664454b4955bf4670ea6e3": {
          "model_module": "@jupyter-widgets/base",
          "model_name": "LayoutModel",
          "model_module_version": "1.2.0",
          "state": {
            "_model_module": "@jupyter-widgets/base",
            "_model_module_version": "1.2.0",
            "_model_name": "LayoutModel",
            "_view_count": null,
            "_view_module": "@jupyter-widgets/base",
            "_view_module_version": "1.2.0",
            "_view_name": "LayoutView",
            "align_content": null,
            "align_items": null,
            "align_self": null,
            "border": null,
            "bottom": null,
            "display": null,
            "flex": null,
            "flex_flow": null,
            "grid_area": null,
            "grid_auto_columns": null,
            "grid_auto_flow": null,
            "grid_auto_rows": null,
            "grid_column": null,
            "grid_gap": null,
            "grid_row": null,
            "grid_template_areas": null,
            "grid_template_columns": null,
            "grid_template_rows": null,
            "height": null,
            "justify_content": null,
            "justify_items": null,
            "left": null,
            "margin": null,
            "max_height": null,
            "max_width": null,
            "min_height": null,
            "min_width": null,
            "object_fit": null,
            "object_position": null,
            "order": null,
            "overflow": null,
            "overflow_x": null,
            "overflow_y": null,
            "padding": null,
            "right": null,
            "top": null,
            "visibility": null,
            "width": null
          }
        },
        "9adeb1bb33534dc2988a1646eb98f3d7": {
          "model_module": "@jupyter-widgets/base",
          "model_name": "LayoutModel",
          "model_module_version": "1.2.0",
          "state": {
            "_model_module": "@jupyter-widgets/base",
            "_model_module_version": "1.2.0",
            "_model_name": "LayoutModel",
            "_view_count": null,
            "_view_module": "@jupyter-widgets/base",
            "_view_module_version": "1.2.0",
            "_view_name": "LayoutView",
            "align_content": null,
            "align_items": null,
            "align_self": null,
            "border": null,
            "bottom": null,
            "display": null,
            "flex": null,
            "flex_flow": null,
            "grid_area": null,
            "grid_auto_columns": null,
            "grid_auto_flow": null,
            "grid_auto_rows": null,
            "grid_column": null,
            "grid_gap": null,
            "grid_row": null,
            "grid_template_areas": null,
            "grid_template_columns": null,
            "grid_template_rows": null,
            "height": null,
            "justify_content": null,
            "justify_items": null,
            "left": null,
            "margin": null,
            "max_height": null,
            "max_width": null,
            "min_height": null,
            "min_width": null,
            "object_fit": null,
            "object_position": null,
            "order": null,
            "overflow": null,
            "overflow_x": null,
            "overflow_y": null,
            "padding": null,
            "right": null,
            "top": null,
            "visibility": null,
            "width": null
          }
        },
        "f6af5674714c46c081863937353a1e4f": {
          "model_module": "@jupyter-widgets/controls",
          "model_name": "DescriptionStyleModel",
          "model_module_version": "1.5.0",
          "state": {
            "_model_module": "@jupyter-widgets/controls",
            "_model_module_version": "1.5.0",
            "_model_name": "DescriptionStyleModel",
            "_view_count": null,
            "_view_module": "@jupyter-widgets/base",
            "_view_module_version": "1.2.0",
            "_view_name": "StyleView",
            "description_width": ""
          }
        },
        "4541830b59334bfdae0958e097b96779": {
          "model_module": "@jupyter-widgets/base",
          "model_name": "LayoutModel",
          "model_module_version": "1.2.0",
          "state": {
            "_model_module": "@jupyter-widgets/base",
            "_model_module_version": "1.2.0",
            "_model_name": "LayoutModel",
            "_view_count": null,
            "_view_module": "@jupyter-widgets/base",
            "_view_module_version": "1.2.0",
            "_view_name": "LayoutView",
            "align_content": null,
            "align_items": null,
            "align_self": null,
            "border": null,
            "bottom": null,
            "display": null,
            "flex": null,
            "flex_flow": null,
            "grid_area": null,
            "grid_auto_columns": null,
            "grid_auto_flow": null,
            "grid_auto_rows": null,
            "grid_column": null,
            "grid_gap": null,
            "grid_row": null,
            "grid_template_areas": null,
            "grid_template_columns": null,
            "grid_template_rows": null,
            "height": null,
            "justify_content": null,
            "justify_items": null,
            "left": null,
            "margin": null,
            "max_height": null,
            "max_width": null,
            "min_height": null,
            "min_width": null,
            "object_fit": null,
            "object_position": null,
            "order": null,
            "overflow": null,
            "overflow_x": null,
            "overflow_y": null,
            "padding": null,
            "right": null,
            "top": null,
            "visibility": null,
            "width": null
          }
        },
        "ee869d9caa504ab0a926c1044eb5e0cc": {
          "model_module": "@jupyter-widgets/controls",
          "model_name": "ProgressStyleModel",
          "model_module_version": "1.5.0",
          "state": {
            "_model_module": "@jupyter-widgets/controls",
            "_model_module_version": "1.5.0",
            "_model_name": "ProgressStyleModel",
            "_view_count": null,
            "_view_module": "@jupyter-widgets/base",
            "_view_module_version": "1.2.0",
            "_view_name": "StyleView",
            "bar_color": null,
            "description_width": ""
          }
        },
        "defc74d50c6246c48b01cbdfb97e86fe": {
          "model_module": "@jupyter-widgets/base",
          "model_name": "LayoutModel",
          "model_module_version": "1.2.0",
          "state": {
            "_model_module": "@jupyter-widgets/base",
            "_model_module_version": "1.2.0",
            "_model_name": "LayoutModel",
            "_view_count": null,
            "_view_module": "@jupyter-widgets/base",
            "_view_module_version": "1.2.0",
            "_view_name": "LayoutView",
            "align_content": null,
            "align_items": null,
            "align_self": null,
            "border": null,
            "bottom": null,
            "display": null,
            "flex": null,
            "flex_flow": null,
            "grid_area": null,
            "grid_auto_columns": null,
            "grid_auto_flow": null,
            "grid_auto_rows": null,
            "grid_column": null,
            "grid_gap": null,
            "grid_row": null,
            "grid_template_areas": null,
            "grid_template_columns": null,
            "grid_template_rows": null,
            "height": null,
            "justify_content": null,
            "justify_items": null,
            "left": null,
            "margin": null,
            "max_height": null,
            "max_width": null,
            "min_height": null,
            "min_width": null,
            "object_fit": null,
            "object_position": null,
            "order": null,
            "overflow": null,
            "overflow_x": null,
            "overflow_y": null,
            "padding": null,
            "right": null,
            "top": null,
            "visibility": null,
            "width": null
          }
        },
        "def09b981e504c398f1251a81effe0e8": {
          "model_module": "@jupyter-widgets/controls",
          "model_name": "DescriptionStyleModel",
          "model_module_version": "1.5.0",
          "state": {
            "_model_module": "@jupyter-widgets/controls",
            "_model_module_version": "1.5.0",
            "_model_name": "DescriptionStyleModel",
            "_view_count": null,
            "_view_module": "@jupyter-widgets/base",
            "_view_module_version": "1.2.0",
            "_view_name": "StyleView",
            "description_width": ""
          }
        },
        "1ce835997d2745c5a60657f19b4c3bdc": {
          "model_module": "@jupyter-widgets/controls",
          "model_name": "HBoxModel",
          "model_module_version": "1.5.0",
          "state": {
            "_dom_classes": [],
            "_model_module": "@jupyter-widgets/controls",
            "_model_module_version": "1.5.0",
            "_model_name": "HBoxModel",
            "_view_count": null,
            "_view_module": "@jupyter-widgets/controls",
            "_view_module_version": "1.5.0",
            "_view_name": "HBoxView",
            "box_style": "",
            "children": [
              "IPY_MODEL_783430b4c80e4921a4ad86d026bff3d4",
              "IPY_MODEL_50b8327545d2433dbac8c70ec711117e",
              "IPY_MODEL_959cc7a625534fb7b7abbc4c6c0dfcd7"
            ],
            "layout": "IPY_MODEL_7e7d99701c2647e5acf72b55860a71e5"
          }
        },
        "783430b4c80e4921a4ad86d026bff3d4": {
          "model_module": "@jupyter-widgets/controls",
          "model_name": "HTMLModel",
          "model_module_version": "1.5.0",
          "state": {
            "_dom_classes": [],
            "_model_module": "@jupyter-widgets/controls",
            "_model_module_version": "1.5.0",
            "_model_name": "HTMLModel",
            "_view_count": null,
            "_view_module": "@jupyter-widgets/controls",
            "_view_module_version": "1.5.0",
            "_view_name": "HTMLView",
            "description": "",
            "description_tooltip": null,
            "layout": "IPY_MODEL_64296539bcb34c27b95b60e639140e7d",
            "placeholder": "​",
            "style": "IPY_MODEL_196231549d3641189e4106f9f80b0c21",
            "value": "generation_config.json: 100%"
          }
        },
        "50b8327545d2433dbac8c70ec711117e": {
          "model_module": "@jupyter-widgets/controls",
          "model_name": "FloatProgressModel",
          "model_module_version": "1.5.0",
          "state": {
            "_dom_classes": [],
            "_model_module": "@jupyter-widgets/controls",
            "_model_module_version": "1.5.0",
            "_model_name": "FloatProgressModel",
            "_view_count": null,
            "_view_module": "@jupyter-widgets/controls",
            "_view_module_version": "1.5.0",
            "_view_name": "ProgressView",
            "bar_style": "success",
            "description": "",
            "description_tooltip": null,
            "layout": "IPY_MODEL_d09a88988e9341d4a13acdd5fb8d2a48",
            "max": 117,
            "min": 0,
            "orientation": "horizontal",
            "style": "IPY_MODEL_d03ac606047449fa95c49845c4e161f8",
            "value": 117
          }
        },
        "959cc7a625534fb7b7abbc4c6c0dfcd7": {
          "model_module": "@jupyter-widgets/controls",
          "model_name": "HTMLModel",
          "model_module_version": "1.5.0",
          "state": {
            "_dom_classes": [],
            "_model_module": "@jupyter-widgets/controls",
            "_model_module_version": "1.5.0",
            "_model_name": "HTMLModel",
            "_view_count": null,
            "_view_module": "@jupyter-widgets/controls",
            "_view_module_version": "1.5.0",
            "_view_name": "HTMLView",
            "description": "",
            "description_tooltip": null,
            "layout": "IPY_MODEL_11931cb81d3340a1995dd12a17b8dbb7",
            "placeholder": "​",
            "style": "IPY_MODEL_42111238d1f344ef9c37f096689418ee",
            "value": " 117/117 [00:00&lt;00:00, 8.04kB/s]"
          }
        },
        "7e7d99701c2647e5acf72b55860a71e5": {
          "model_module": "@jupyter-widgets/base",
          "model_name": "LayoutModel",
          "model_module_version": "1.2.0",
          "state": {
            "_model_module": "@jupyter-widgets/base",
            "_model_module_version": "1.2.0",
            "_model_name": "LayoutModel",
            "_view_count": null,
            "_view_module": "@jupyter-widgets/base",
            "_view_module_version": "1.2.0",
            "_view_name": "LayoutView",
            "align_content": null,
            "align_items": null,
            "align_self": null,
            "border": null,
            "bottom": null,
            "display": null,
            "flex": null,
            "flex_flow": null,
            "grid_area": null,
            "grid_auto_columns": null,
            "grid_auto_flow": null,
            "grid_auto_rows": null,
            "grid_column": null,
            "grid_gap": null,
            "grid_row": null,
            "grid_template_areas": null,
            "grid_template_columns": null,
            "grid_template_rows": null,
            "height": null,
            "justify_content": null,
            "justify_items": null,
            "left": null,
            "margin": null,
            "max_height": null,
            "max_width": null,
            "min_height": null,
            "min_width": null,
            "object_fit": null,
            "object_position": null,
            "order": null,
            "overflow": null,
            "overflow_x": null,
            "overflow_y": null,
            "padding": null,
            "right": null,
            "top": null,
            "visibility": null,
            "width": null
          }
        },
        "64296539bcb34c27b95b60e639140e7d": {
          "model_module": "@jupyter-widgets/base",
          "model_name": "LayoutModel",
          "model_module_version": "1.2.0",
          "state": {
            "_model_module": "@jupyter-widgets/base",
            "_model_module_version": "1.2.0",
            "_model_name": "LayoutModel",
            "_view_count": null,
            "_view_module": "@jupyter-widgets/base",
            "_view_module_version": "1.2.0",
            "_view_name": "LayoutView",
            "align_content": null,
            "align_items": null,
            "align_self": null,
            "border": null,
            "bottom": null,
            "display": null,
            "flex": null,
            "flex_flow": null,
            "grid_area": null,
            "grid_auto_columns": null,
            "grid_auto_flow": null,
            "grid_auto_rows": null,
            "grid_column": null,
            "grid_gap": null,
            "grid_row": null,
            "grid_template_areas": null,
            "grid_template_columns": null,
            "grid_template_rows": null,
            "height": null,
            "justify_content": null,
            "justify_items": null,
            "left": null,
            "margin": null,
            "max_height": null,
            "max_width": null,
            "min_height": null,
            "min_width": null,
            "object_fit": null,
            "object_position": null,
            "order": null,
            "overflow": null,
            "overflow_x": null,
            "overflow_y": null,
            "padding": null,
            "right": null,
            "top": null,
            "visibility": null,
            "width": null
          }
        },
        "196231549d3641189e4106f9f80b0c21": {
          "model_module": "@jupyter-widgets/controls",
          "model_name": "DescriptionStyleModel",
          "model_module_version": "1.5.0",
          "state": {
            "_model_module": "@jupyter-widgets/controls",
            "_model_module_version": "1.5.0",
            "_model_name": "DescriptionStyleModel",
            "_view_count": null,
            "_view_module": "@jupyter-widgets/base",
            "_view_module_version": "1.2.0",
            "_view_name": "StyleView",
            "description_width": ""
          }
        },
        "d09a88988e9341d4a13acdd5fb8d2a48": {
          "model_module": "@jupyter-widgets/base",
          "model_name": "LayoutModel",
          "model_module_version": "1.2.0",
          "state": {
            "_model_module": "@jupyter-widgets/base",
            "_model_module_version": "1.2.0",
            "_model_name": "LayoutModel",
            "_view_count": null,
            "_view_module": "@jupyter-widgets/base",
            "_view_module_version": "1.2.0",
            "_view_name": "LayoutView",
            "align_content": null,
            "align_items": null,
            "align_self": null,
            "border": null,
            "bottom": null,
            "display": null,
            "flex": null,
            "flex_flow": null,
            "grid_area": null,
            "grid_auto_columns": null,
            "grid_auto_flow": null,
            "grid_auto_rows": null,
            "grid_column": null,
            "grid_gap": null,
            "grid_row": null,
            "grid_template_areas": null,
            "grid_template_columns": null,
            "grid_template_rows": null,
            "height": null,
            "justify_content": null,
            "justify_items": null,
            "left": null,
            "margin": null,
            "max_height": null,
            "max_width": null,
            "min_height": null,
            "min_width": null,
            "object_fit": null,
            "object_position": null,
            "order": null,
            "overflow": null,
            "overflow_x": null,
            "overflow_y": null,
            "padding": null,
            "right": null,
            "top": null,
            "visibility": null,
            "width": null
          }
        },
        "d03ac606047449fa95c49845c4e161f8": {
          "model_module": "@jupyter-widgets/controls",
          "model_name": "ProgressStyleModel",
          "model_module_version": "1.5.0",
          "state": {
            "_model_module": "@jupyter-widgets/controls",
            "_model_module_version": "1.5.0",
            "_model_name": "ProgressStyleModel",
            "_view_count": null,
            "_view_module": "@jupyter-widgets/base",
            "_view_module_version": "1.2.0",
            "_view_name": "StyleView",
            "bar_color": null,
            "description_width": ""
          }
        },
        "11931cb81d3340a1995dd12a17b8dbb7": {
          "model_module": "@jupyter-widgets/base",
          "model_name": "LayoutModel",
          "model_module_version": "1.2.0",
          "state": {
            "_model_module": "@jupyter-widgets/base",
            "_model_module_version": "1.2.0",
            "_model_name": "LayoutModel",
            "_view_count": null,
            "_view_module": "@jupyter-widgets/base",
            "_view_module_version": "1.2.0",
            "_view_name": "LayoutView",
            "align_content": null,
            "align_items": null,
            "align_self": null,
            "border": null,
            "bottom": null,
            "display": null,
            "flex": null,
            "flex_flow": null,
            "grid_area": null,
            "grid_auto_columns": null,
            "grid_auto_flow": null,
            "grid_auto_rows": null,
            "grid_column": null,
            "grid_gap": null,
            "grid_row": null,
            "grid_template_areas": null,
            "grid_template_columns": null,
            "grid_template_rows": null,
            "height": null,
            "justify_content": null,
            "justify_items": null,
            "left": null,
            "margin": null,
            "max_height": null,
            "max_width": null,
            "min_height": null,
            "min_width": null,
            "object_fit": null,
            "object_position": null,
            "order": null,
            "overflow": null,
            "overflow_x": null,
            "overflow_y": null,
            "padding": null,
            "right": null,
            "top": null,
            "visibility": null,
            "width": null
          }
        },
        "42111238d1f344ef9c37f096689418ee": {
          "model_module": "@jupyter-widgets/controls",
          "model_name": "DescriptionStyleModel",
          "model_module_version": "1.5.0",
          "state": {
            "_model_module": "@jupyter-widgets/controls",
            "_model_module_version": "1.5.0",
            "_model_name": "DescriptionStyleModel",
            "_view_count": null,
            "_view_module": "@jupyter-widgets/base",
            "_view_module_version": "1.2.0",
            "_view_name": "StyleView",
            "description_width": ""
          }
        }
      }
    }
  },
  "nbformat": 4,
  "nbformat_minor": 0
}